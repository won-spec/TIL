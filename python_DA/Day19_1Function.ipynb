{
 "cells": [
  {
   "cell_type": "code",
   "execution_count": 5,
   "metadata": {},
   "outputs": [
    {
     "name": "stdout",
     "output_type": "stream",
     "text": [
      "10\n"
     ]
    }
   ],
   "source": [
    "##fuction 함수\n",
    "\n",
    "a = [1,2,3,4]\n",
    "#mySum = 0\n",
    "# for i in a:\n",
    "#     mySum += i\n",
    "mySum = sum(a) #python의 내장 함수를 이용해서 처리\n",
    "print(mySum)\n"
   ]
  },
  {
   "cell_type": "code",
   "execution_count": 5,
   "metadata": {},
   "outputs": [
    {
     "name": "stdout",
     "output_type": "stream",
     "text": [
      "100 200 300\n",
      "입력받은 값은 : 100 200 300\n",
      "최종결과는 :600\n"
     ]
    }
   ],
   "source": [
    "#숫자를 입력받아서 => 단위기능으로 간주 => 함수\n",
    "#해당숫자를 모두 더한 후 => 단위기능으로 간주 => 함수\n",
    "#\"결과값은 : xx입니다\" 출력 => 단위기능으로 간주 => 함수\n",
    "\n",
    "#절차적 프로그래밍 : 함수를 작성하고 레고조각을 결합하듯 알고리즘을 짜자\n",
    "\n",
    "\n",
    "#python에서 함수는 크게 2가지로 구분\n",
    "# 1. 내장함수 /  2. 사용자 정의함수\n",
    "# 사용자 정의 함수를 만드는 keyword는 def\n",
    "\n",
    "##함수 이름은 소문자로 시작(관용적)\n",
    "#def 함수이름(입력변수 설정) :\n",
    "#   기능설정\n",
    "#   함수 호출한 곳으로 결과값을 값을 return \n",
    "def mySum(a,b,c) :\n",
    "    total = a+b+c\n",
    "    return total\n",
    "#함수의 정의(definition) : 함수의 이름, 인자형태, 인자개수 + 기능설정\n",
    "#함수의 선언(declaration) : 함수의 이름, 인자형태, 인자개수\n",
    "\n",
    "inputValue = input() #입력받는 내장함수, 무조건 str로 받는다. \"100 200 300\"\n",
    "#숫자 3개를 받아보자\n",
    "print(\"입력받은 값은 : {}\".format(inputValue))\n",
    "#split : str형식을 하나하나 뜯어보자\n",
    "var1 = inputValue.split(\" \") #list형태로 분리\n",
    "result = mySum(int(var1[0]),int(var1[1]),int(var1[2])) #정수형으로 변환\n",
    "\n",
    "print(\"최종결과는 :{}\".format(result))\n"
   ]
  },
  {
   "cell_type": "code",
   "execution_count": 8,
   "metadata": {},
   "outputs": [
    {
     "name": "stdout",
     "output_type": "stream",
     "text": [
      "최종결과 : 100\n",
      "최종결과 : 103390\n"
     ]
    }
   ],
   "source": [
    "## 함수 2번째\n",
    "#*args\n",
    "def mySum2(*args): # * 몇개의 데이터가 들어올지 모르겠다 / args가 tuple로 간주\n",
    "               # args => (10,20,30,40)\n",
    "    #전달받은 모든 값들을 더해서 리턴\n",
    "    k = 0\n",
    "    for i in range(len(args)):\n",
    "        k+= args[i]\n",
    "    return k\n",
    "    \n",
    "total = mySum2(10,20,30,40)\n",
    "print(\"최종결과 : {}\".format(total))\n",
    "total = mySum2(103320,30,40)\n",
    "print(\"최종결과 : {}\".format(total))"
   ]
  },
  {
   "cell_type": "code",
   "execution_count": 13,
   "metadata": {},
   "outputs": [
    {
     "name": "stdout",
     "output_type": "stream",
     "text": [
      "20000\n"
     ]
    }
   ],
   "source": [
    "##함수를 하나 정의\n",
    "##숫자 2개 받아서 두개의 합과 두개의 곱을 리턴\n",
    "## tuple을 이용해서 마치 여러개의 값이 리턴되는 것 처럼 사용 가능\n",
    "##tuple 괄호생략가능\n",
    "\n",
    "a = (10,20,30)\n",
    "b = 10,20,30\n",
    "def multi_process(x,y):\n",
    "    result1 = x+y\n",
    "    result2 = x*y\n",
    "    return result1,result2  # 튜플형태 굳이 괄호 안쓴다. 여러개의 값을 리턴 x 하나의 튜플을 return\n",
    "                             # 두개의 값을 리턴하는 것으로 보임\n",
    "                             # 아니면 List를 만들어서 return\n",
    "\n",
    "a,b = multi_process(100,200)\n",
    "print(b)"
   ]
  },
  {
   "cell_type": "code",
   "execution_count": 17,
   "metadata": {},
   "outputs": [
    {
     "data": {
      "text/plain": [
       "103"
      ]
     },
     "execution_count": 17,
     "metadata": {},
     "output_type": "execute_result"
    }
   ],
   "source": [
    "##사용자 정의 함수를 만들자\n",
    "## default parameter\n",
    "\n",
    "def mySum(a,b,c=100): # c값(맨 마지막 것만 가능)이 안들어온다면 100이라는 default값을 적용해라\n",
    "    return a+b+c\n",
    "\n",
    "total = mySum(1,2,3) #6\n",
    "total = mySum(1,2)   #103\n",
    "total\n",
    "\n"
   ]
  },
  {
   "cell_type": "code",
   "execution_count": 22,
   "metadata": {},
   "outputs": [
    {
     "name": "stdout",
     "output_type": "stream",
     "text": [
      "30\n",
      "30\n"
     ]
    }
   ],
   "source": [
    "tmp = 100      # global variable 범위가 넓다\n",
    "\n",
    "def myFunc(x): # 함수 안에서의 변수는  local variable(지역변수) 범위한정\n",
    "                # 지역변수는 함수가 실행되면 생성\n",
    "                # 함수 수행이 종료되면 없어진다!\n",
    "    global tmp #tmp를 global에서 찾아서 사용할때 방식 \n",
    "                #사용 지양!! 함수 재사용하기가 힘들다\n",
    "    tmp = 10   \n",
    "    tmp += x   \n",
    "    return tmp\n",
    "\n",
    "print(myFunc(20)) #30\n",
    "print(tmp)        #100 // global 설정시 30\n",
    "\n",
    "##사용자 정의 함수는 위에서 설명한 그 방식대로 이용하면 된다!\n",
    "##프로그램을 작성할 때 함수를 어떻게 정의해서 사용할 것인가를\n",
    "##고민해서 작성!!"
   ]
  },
  {
   "cell_type": "code",
   "execution_count": 29,
   "metadata": {},
   "outputs": [
    {
     "name": "stdout",
     "output_type": "stream",
     "text": [
      "13.0\n",
      "이것은 소리없는 아우성\n"
     ]
    }
   ],
   "source": [
    "## 나머지 내장함수를 사용하자!  python이 제공해주는 함수\n",
    "## int() : 인자로 입력된 값을 정수로 변환\n",
    "## abs() : 절댓값 return\n",
    "## all() : 인자로 반복가능한 타입이 와야한다. \n",
    "##         인자로 들어온 값이 모두 True일 경우 True return\n",
    "a = [True,100,{},3.14] # dict가 비어있어서 False의값을 가짐 => a에 False가 포함 \n",
    "all(a) # all(a) False\n",
    "## any(a) : 인자로 반복가능한 타입이 와야한다.\n",
    "##          인자로 들어온 값중 하나라도True일 경우 True return\n",
    "any(a)\n",
    "\n",
    "## len() : 길이구해줌\n",
    "## list() : list만들어줌\n",
    "## tuple() : tuple만들어줌\n",
    "## str() : 문자열로 변환\n",
    "## type() : 인자로 들어온 데이터의 type을 return\n",
    "## max(), min() :최대 최소 구해줌\n",
    "a = [1,2,5,48,9]\n",
    "print(sum(a)/len(a))\n",
    "#sorted() : 오름차순으로 정렬해주는 함수\n",
    "a = [\"이것은\",\"소리없는\",\"아우성\"]\n",
    "# => \"이것은 소리없는 아우성\"\n",
    "#join()함수를 이용하면 편하다\n",
    "print(\" \".join(a)) # \" \"공백을 기준으로 a를 묶어줘\n",
    "\n",
    "###################################함수정의와 내장함수확인#########################\n"
   ]
  }
 ],
 "metadata": {
  "kernelspec": {
   "display_name": "[CPU_ENV]",
   "language": "python",
   "name": "cpu_env"
  },
  "language_info": {
   "codemirror_mode": {
    "name": "ipython",
    "version": 3
   },
   "file_extension": ".py",
   "mimetype": "text/x-python",
   "name": "python",
   "nbconvert_exporter": "python",
   "pygments_lexer": "ipython3",
   "version": "3.6.9"
  }
 },
 "nbformat": 4,
 "nbformat_minor": 2
}
