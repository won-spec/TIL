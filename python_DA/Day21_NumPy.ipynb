{
 "cells": [
  {
   "cell_type": "code",
   "execution_count": 1,
   "metadata": {},
   "outputs": [],
   "source": [
    "##NumPy (Numerical Python)\n",
    "##수학적 계산을 할 때, 수치연산을 할 떄 사용된다\n",
    "##마치 R의 Vector를 사용하는 것처럼 NumPy를 이용할 수 있어요\n",
    "##Vector연산, Matrix연산을 빠르고 효율적으로 처리할 수 있어요\n",
    "\n",
    "## Pandas, Matplotlib,의 기본 module이 NumPy\n",
    "\n",
    "## NumPy module은 ndarray(n~dimensional array)라고 불리는 자료구조를 이용\n",
    "## => R에서 Vector와 유사\n",
    "## R의 Vector자료구조는 같은 데이터 타입을 저장하는 자료구조\n",
    "## ndarray도 같은 데이터 타입만 저장이 가능\n",
    "\n",
    "## NumPy의 ndarray를 이용하려면 NumPy module이 설치되어 있어야 함!\n"
   ]
  },
  {
   "cell_type": "code",
   "execution_count": 24,
   "metadata": {},
   "outputs": [
    {
     "name": "stdout",
     "output_type": "stream",
     "text": [
      "list => [1, 2, 3, 4], type => <class 'list'>\n",
      "list[0] => 1, type => <class 'int'>\n",
      "ndarray => [1 2 3 4], dtype => <class 'numpy.ndarray'>\n",
      "ndarray dtype => int32\n",
      "<class 'numpy.ndarray'>\n",
      "<U11\n",
      "<class 'numpy.str_'>\n"
     ]
    }
   ],
   "source": [
    "## module을 설치할 때 conda라는 명령을 이용해서 설치\n",
    "## python은 pip를 이용해서 module을 설치\n",
    "## 새로운 콘솔창 관리자 모드로 열고 conda install numpy 입력\n",
    "import numpy as np\n",
    "\n",
    "## ndarray를 생성하고 data type을 살펴보자\n",
    "\n",
    "# python list\n",
    "a = [1,2,3,4]\n",
    "print(\"list => {}, type => {}\".format(a,type(a)))\n",
    "print (\"list[0] => {}, type => {}\".format(a[0],type(a[0])))\n",
    "\n",
    "## NumPy ndarray\n",
    "b = np.array([1,2,3,4])\n",
    "print(\"ndarray => {}, dtype => {}\".format(b,type(b)))\n",
    "print(\"ndarray dtype => {}\".format(b.dtype))\n",
    "## int32 => 정수형이고 32bit로 구성되어 있다. range가 정해져 있다.\n",
    "## 2진수로 32개의 비트로 표현할 수 있는 최대 수\n",
    "## 2진수 1개로 표현할 수 있는 수 0 or 1\n",
    "## 2진수 32개로 표현할 수 있는 수 print(2**32)\n",
    "## int64를 이용하면 더 큰수를 표현할 수 있다.! print(2**64)\n",
    "\n",
    "## ndarray를 만드는 가장 간단한 방법 => numpy가 제공하는 array()함수를 이용\n",
    "c = np.array([100, \"hello\",3.14])\n",
    "#R의 vector와 동일하게 array의 우선순위 데이터 타입으로 변환\n",
    "# array(['100', 'hello', '3.14'], dtype='<U11') / dtype='<U11' => 유니코드\n",
    "print(type(c))\n",
    "print(c.dtype)\n",
    "print(type(c[0]))\n"
   ]
  },
  {
   "cell_type": "code",
   "execution_count": 41,
   "metadata": {},
   "outputs": [
    {
     "name": "stdout",
     "output_type": "stream",
     "text": [
      "[[1 2 3]\n",
      " [4 5 6]]\n",
      "6\n",
      "int32\n",
      "float64\n",
      "[[1. 2. 3.]\n",
      " [4. 5. 6.]]\n"
     ]
    }
   ],
   "source": [
    "## 다차원 numpy array를 만들어 보아요\n",
    "myList1 = [(1,2,3),(4,5,6)]\n",
    "myList = [[1,2,3],[4,5,6]]\n",
    "arr1 = np.array(myList1)\n",
    "arr = np.array(myList)\n",
    "print(arr)\n",
    "## 1행 2열의 값은 얼마일까요? (행과 열의 시작 인덱스 번호는 0부터)\n",
    "print(arr[1,2]) #arr2[1],[2]의 형태로 쓰지 않아요 이건 list형에서 사용\n",
    "\n",
    "## n차원의 ndarray가 어떻게 표현되는지 확인해야 해요\n",
    "## 기본 데이터 타입은 정수일 경우 int32로 사용\n",
    "print(arr.dtype)\n",
    "## 만약 데이터 타입을 지정하려면\n",
    "#arr = np.array(myList, dtype = \"int64\") # 그다지 좋지않은 방식\n",
    "arr = np.array(myList, dtype = np.float64)#이 방식을 사용!\n",
    "print(arr.dtype)\n",
    "print(arr)"
   ]
  },
  {
   "cell_type": "code",
   "execution_count": 52,
   "metadata": {},
   "outputs": [
    {
     "name": "stdout",
     "output_type": "stream",
     "text": [
      "3\n",
      "(2, 2, 2)\n"
     ]
    }
   ],
   "source": [
    "#차원의 개수와 크기 및 axis\n",
    "#myList = [1,2,3,4]\n",
    "#myList = [[1,2],[3,4],[5,6],[7,8]]\n",
    "myList = [  [  [1,2],[3,4]  ]  ,  [  [5,6],[7,8]  ]  ]\n",
    "arr = np.array(myList) # python list를 이용해ㅐ서 numpy array생성\n",
    "##이렇게 numpy array를 생성하면 차원의 개수를 알 수 있다\n",
    "print(arr.ndim) # 차원의 개수를알려주는 속성\n",
    "\n",
    "##차원의 개수와 원소개수를 동시에 알려주는 속성\n",
    "print(arr.shape)\n",
    "\n",
    "## 1차원은 => 열\n",
    "## 2차원은 => 행,열\n",
    "## 3차원은 => 면,행,열\n"
   ]
  },
  {
   "cell_type": "code",
   "execution_count": 76,
   "metadata": {},
   "outputs": [
    {
     "name": "stdout",
     "output_type": "stream",
     "text": [
      "ndarray의 차원의 수는 : 1\n",
      "ndarray의 shape : (12,)\n",
      "ndarray의 요소개수는 : 12\n",
      "ndarray의 len() : 12\n",
      "[ 1  2  3  4  5  6  7  8  9 10 11 12]\n",
      "\n",
      "[[[ 1  2]\n",
      "  [ 3  4]]\n",
      "\n",
      " [[ 5  6]\n",
      "  [ 7  8]]\n",
      "\n",
      " [[ 9 10]\n",
      "  [11 12]]]\n"
     ]
    }
   ],
   "source": [
    "# numpy array 차원제어\n",
    "\n",
    "myList = [1,2,3,4,5,6,7,8,9,10,11,12]\n",
    "#myList = [[1,2,3],[4,5,6]]\n",
    "arr = np.array(myList) # numpy array생성 (ndarray)\n",
    "# 차원의 수를 알아보자\n",
    "print(\"ndarray의 차원의 수는 : {}\".format(arr.ndim))\n",
    "# 차원의 수와 각 차원의 원소의 개수\n",
    "print(\"ndarray의 shape : {}\".format(arr.shape))\n",
    "\n",
    "#ndarray의 크기를 알아보아요\n",
    "print(\"ndarray의 요소개수는 : {}\".format(arr.size))\n",
    "#python의 len()함수는 ndarray에 대해 적용하면 1차원의 요소개수를 리턴\n",
    "print(\"ndarray의 len() : {}\".format(len(arr)))\n",
    "print(arr)\n",
    "print()\n",
    "# shape을 변경할 수 있다\n",
    "arr.shape = 3,2,2 # tuple은 ()생략가능\n",
    "print(arr)\n",
    "\n",
    "##이렇게 shape을 변경할 수 있는데\n",
    "##arr.shape 을 직접바꾸는 방식은 잘 사용되지 않는다.\n",
    "##다른방식 사용! : reshape() 함수 사용\n"
   ]
  },
  {
   "cell_type": "code",
   "execution_count": 82,
   "metadata": {},
   "outputs": [
    {
     "name": "stdout",
     "output_type": "stream",
     "text": [
      "dtype : float64\n",
      "[ 1.1   3.14  2.   44.    3.99]\n",
      "[ 1  3  2 44  3]\n"
     ]
    }
   ],
   "source": [
    "## numpy array의 type변경\n",
    "arr = np.array([1.1, 3.14, 2, 44.0, 3.99])\n",
    "print(\"dtype : {}\".format(arr.dtype))\n",
    "print(arr)\n",
    "\n",
    "## ndarray의 데이터 타입을 다른 형식으로 변경할 수 있다.\n",
    "int_arr = arr.astype(np.int32) #실수를 정수로 변환시 무조건 버림처리\n",
    "print(int_arr)"
   ]
  },
  {
   "cell_type": "code",
   "execution_count": 94,
   "metadata": {},
   "outputs": [
    {
     "name": "stdout",
     "output_type": "stream",
     "text": [
      "[[0. 0. 0. 0.]\n",
      " [0. 0. 0. 0.]\n",
      " [0. 0. 0. 0.]]\n",
      "[[1 1 1 1]\n",
      " [1 1 1 1]]\n",
      "[[ 1.11492077e+277 -4.08464466e-311 -4.46052852e+215  7.24618744e-154\n",
      "   6.91450648e+212  2.90977735e-014  8.97600980e-096]\n",
      " [ 4.50617638e-144  4.82412328e+228  1.04718130e-142  4.05399143e-317\n",
      "  -2.17484725e-311  0.00000000e+000  0.00000000e+000]\n",
      " [ 0.00000000e+000  0.00000000e+000  0.00000000e+000  0.00000000e+000\n",
      "   0.00000000e+000  0.00000000e+000  0.00000000e+000]\n",
      " [ 0.00000000e+000  0.00000000e+000  0.00000000e+000  0.00000000e+000\n",
      "   0.00000000e+000  0.00000000e+000 -4.34777068e-311]\n",
      " [ 0.00000000e+000  0.00000000e+000  0.00000000e+000  0.00000000e+000\n",
      "   0.00000000e+000  0.00000000e+000  0.00000000e+000]]\n",
      "[[9. 9. 9. 9.]\n",
      " [9. 9. 9. 9.]\n",
      " [9. 9. 9. 9.]]\n",
      "[[1 2 3]\n",
      " [4 5 6]]\n",
      "[[1. 1. 1.]\n",
      " [1. 1. 1.]]\n",
      "[[0. 0. 0.]\n",
      " [0. 0. 0.]]\n"
     ]
    }
   ],
   "source": [
    "###numpy array를 생성하는 다양한 방법\n",
    "arr = np.array([1,2,3,4]) #리스트를 이용해서 ndarray를 생성\n",
    "\n",
    "## 모든 원소의 값이 0인 ndarray를 원하는 shape으로 생성\n",
    "arr = np.zeros((3,4)) # (3,4)형태로 원소의 값이 0인 ndarray를 생성\n",
    "print(arr)\n",
    "## 모든 원소의 값이 1인 ndarray를 원하는 shape으로 생성\n",
    "arr = np.ones((2,4), dtype=np.int32)\n",
    "print(arr)\n",
    "\n",
    "## numpy array의 공간만 확보할 수 있어요\n",
    "## 초기화를 하지 않아요!\n",
    "arr = np.empty((5,7))\n",
    "print(arr)\n",
    "\n",
    "##ones나 zeros는 초기화 작업이 추가적으로 진행 array의 크기가 커지면 속도가 저하\n",
    "\n",
    "#임의값으로 초기화를 진행해보자\n",
    "arr = np.full((3,4),9, dtype=np.float64)\n",
    "print(arr)\n",
    "\n",
    "arr = np.array([(1,2,3),(4,5,6)])\n",
    "print(arr)\n",
    "\n",
    "#위에서 설명한 ones, zeros, full, empty와 같은 역할을 하면서 \n",
    "#shape이 지정한 array와 같도록 만드는 함수\n",
    "arr_like = np.ones_like(arr, dtype=np.float64)\n",
    "print(arr_like)\n",
    "\n",
    "arr_like = np.zeros_like(arr, dtype=np.float64)\n",
    "print(arr_like)"
   ]
  },
  {
   "cell_type": "code",
   "execution_count": 99,
   "metadata": {},
   "outputs": [
    {
     "name": "stdout",
     "output_type": "stream",
     "text": [
      "[0.1 1.1 2.1 3.1 4.1 5.1]\n"
     ]
    }
   ],
   "source": [
    "## ndarray를 만드는 다양한 방법 - arange\n",
    "## python의 range()와 유사한 기능을 해요\n",
    "\n",
    "# arr = np.arange(0,10,2) #0은 포함 10은 불포함, 2 씩 증가\n",
    "# arr = np.arange(10)\n",
    "arr = np.arange(0.1,5.3) #[0.1  1.1  2.1  3.1  4.1  5.1]\n",
    "print(arr)"
   ]
  },
  {
   "cell_type": "code",
   "execution_count": 112,
   "metadata": {},
   "outputs": [
    {
     "name": "stdout",
     "output_type": "stream",
     "text": [
      "[ 0.          0.52631579  1.05263158  1.57894737  2.10526316  2.63157895\n",
      "  3.15789474  3.68421053  4.21052632  4.73684211  5.26315789  5.78947368\n",
      "  6.31578947  6.84210526  7.36842105  7.89473684  8.42105263  8.94736842\n",
      "  9.47368421 10.        ]\n"
     ]
    },
    {
     "data": {
      "text/plain": [
       "<function matplotlib.pyplot.show(*args, **kw)>"
      ]
     },
     "execution_count": 112,
     "metadata": {},
     "output_type": "execute_result"
    },
    {
     "data": {
      "image/png": "[encoded data removed]",
      "text/plain": [
       "<Figure size 432x288 with 1 Axes>"
      ]
     },
     "metadata": {
      "needs_background": "light"
     },
     "output_type": "display_data"
    }
   ],
   "source": [
    "## ndarray를 만드는 다양한 방법 - linspace\n",
    "## np.linspace(start, stop, num)\n",
    "## start부터 stop까지의 범위에서 num개를 균일한 간격으로 데이터를 생성하고\n",
    "## ndarray로 return\n",
    "## 눈으로 보기 힘드니 그래프로 보자\n",
    "## char를 그리는 대표적인 package가 있다 => matplotlib\n",
    "## conda install matplotlib\n",
    "\n",
    "import matplotlib.pyplot as plt\n",
    "\n",
    "arr = np.linspace(0,10,20) #처음과 끝 포함\n",
    "print(arr)\n",
    "plt.plot(arr)\n",
    "plt.show"
   ]
  },
  {
   "cell_type": "code",
   "execution_count": 2,
   "metadata": {},
   "outputs": [
    {
     "name": "stdout",
     "output_type": "stream",
     "text": [
      "[50.07461775 51.00914318 53.10880685 ... 49.14818308 49.54390525\n",
      " 48.57946303]\n"
     ]
    },
    {
     "data": {
      "text/plain": [
       "<Figure size 640x480 with 1 Axes>"
      ]
     },
     "metadata": {},
     "output_type": "display_data"
    }
   ],
   "source": [
    "## NumPy Array (ndarray)\n",
    "## 특징, 여러가지 속성들(ndim, shape,...)\n",
    "## ndarray 생성방법\n",
    "\n",
    "## 난수를 이용해서 ndarray를 생성해보자\n",
    "## 5가지 정도가 존재\n",
    "\n",
    "## np.random.normal() : 난수를 생성해서 ndarray를 만들 수 있어요\n",
    "## ==> 정규분포 확률밀도에서 난수를 발생시켜요\n",
    "import numpy as np\n",
    "import matplotlib.pyplot as plt\n",
    "\n",
    "## 평균\n",
    "myMean = 50\n",
    "## 표준편차\n",
    "myStd = 2\n",
    "## shape\n",
    "arr = np.random.normal(myMean,myStd,(10000,)) #shape을 이용\n",
    "print(arr)\n",
    "plt.hist(arr,bins=100)\n",
    "plt.show()"
   ]
  },
  {
   "cell_type": "code",
   "execution_count": 22,
   "metadata": {
    "collapsed": true
   },
   "outputs": [
    {
     "data": {
      "image/png": "[encoded data removed]",
      "text/plain": [
       "<Figure size 432x288 with 1 Axes>"
      ]
     },
     "metadata": {
      "needs_background": "light"
     },
     "output_type": "display_data"
    }
   ],
   "source": [
    "## 난수 추출\n",
    "## [0,1) 0이상 1미만 구간에서 균등분포 확률밀도 상에서 난수\n",
    "\n",
    "arr = np.random.rand(10000) # 3차원 (1000) 1차원 (1000,2) 2차원 \n",
    "\n",
    "plt.hist(arr,bins = 100)\n",
    "plt.show()"
   ]
  },
  {
   "cell_type": "code",
   "execution_count": 1,
   "metadata": {},
   "outputs": [
    {
     "ename": "NameError",
     "evalue": "name 'np' is not defined",
     "output_type": "error",
     "traceback": [
      "\u001b[1;31m---------------------------------------------------------------------------\u001b[0m",
      "\u001b[1;31mNameError\u001b[0m                                 Traceback (most recent call last)",
      "\u001b[1;32m<ipython-input-1-c669ae7aa04f>\u001b[0m in \u001b[0;36m<module>\u001b[1;34m\u001b[0m\n\u001b[0;32m      1\u001b[0m \u001b[1;31m## 난수를 추출\u001b[0m\u001b[1;33m\u001b[0m\u001b[1;33m\u001b[0m\u001b[1;33m\u001b[0m\u001b[0m\n\u001b[0;32m      2\u001b[0m \u001b[1;31m## 표준정규분포 확률밀도 상에서 난수\u001b[0m\u001b[1;33m\u001b[0m\u001b[1;33m\u001b[0m\u001b[1;33m\u001b[0m\u001b[0m\n\u001b[1;32m----> 3\u001b[1;33m \u001b[0marr\u001b[0m \u001b[1;33m=\u001b[0m \u001b[0mnp\u001b[0m\u001b[1;33m.\u001b[0m\u001b[0mrandom\u001b[0m\u001b[1;33m.\u001b[0m\u001b[0mrandn\u001b[0m\u001b[1;33m(\u001b[0m\u001b[1;36m10000\u001b[0m\u001b[1;33m)\u001b[0m \u001b[1;31m#인자의 개수로 차원을 지정\u001b[0m\u001b[1;33m\u001b[0m\u001b[1;33m\u001b[0m\u001b[0m\n\u001b[0m\u001b[0;32m      4\u001b[0m \u001b[0mplt\u001b[0m\u001b[1;33m.\u001b[0m\u001b[0mhist\u001b[0m\u001b[1;33m(\u001b[0m\u001b[0marr\u001b[0m\u001b[1;33m,\u001b[0m\u001b[0mbins\u001b[0m \u001b[1;33m=\u001b[0m \u001b[1;36m100\u001b[0m\u001b[1;33m)\u001b[0m\u001b[1;33m\u001b[0m\u001b[1;33m\u001b[0m\u001b[0m\n\u001b[0;32m      5\u001b[0m \u001b[0mplt\u001b[0m\u001b[1;33m.\u001b[0m\u001b[0mshow\u001b[0m\u001b[1;33m(\u001b[0m\u001b[1;33m)\u001b[0m\u001b[1;33m\u001b[0m\u001b[1;33m\u001b[0m\u001b[0m\n",
      "\u001b[1;31mNameError\u001b[0m: name 'np' is not defined"
     ]
    }
   ],
   "source": [
    "## 난수를 추출\n",
    "## 표준정규분포 확률밀도 상에서 난수\n",
    "arr = np.random.randn(10000) #인자의 개수로 차원을 지정\n",
    "plt.hist(arr,bins = 100)\n",
    "plt.show()"
   ]
  },
  {
   "cell_type": "code",
   "execution_count": 33,
   "metadata": {
    "collapsed": true
   },
   "outputs": [
    {
     "data": {
      "image/png": "[encoded data removed]",
      "text/plain": [
       "<Figure size 432x288 with 1 Axes>"
      ]
     },
     "metadata": {
      "needs_background": "light"
     },
     "output_type": "display_data"
    }
   ],
   "source": [
    "## 난수(정수)를 추출\n",
    "## 주어진 범위에서 균등분포 확률밀도 상에서 난수 추출\n",
    "arr = np.random.randint(-100,100,(10000))\n",
    "plt.hist(arr,bins=100)\n",
    "plt.show()"
   ]
  },
  {
   "cell_type": "code",
   "execution_count": 36,
   "metadata": {
    "collapsed": true
   },
   "outputs": [
    {
     "data": {
      "image/png": "[encoded data removed]",
      "text/plain": [
       "<Figure size 432x288 with 1 Axes>"
      ]
     },
     "metadata": {
      "needs_background": "light"
     },
     "output_type": "display_data"
    }
   ],
   "source": [
    "## 난수(실수)를 추출\n",
    "## [0,1)에서 균등분포로 난수 추출\n",
    "arr = np.random.random((10000,)) # random.random()은 shape을 줘야함 \n",
    "plt.hist(arr,bins = 100)\n",
    "plt.show()\n"
   ]
  },
  {
   "cell_type": "code",
   "execution_count": 3,
   "metadata": {},
   "outputs": [
    {
     "name": "stdout",
     "output_type": "stream",
     "text": [
      "[8 9 3 8 8]\n"
     ]
    }
   ],
   "source": [
    "## 난수는 랜덤값이기 때문에 실행할 때마다\n",
    "## 추출되는 난수가 달라짐\n",
    "\n",
    "## 난수값도 사실은 알고리즘에 의해서 계산되는 값!\n",
    "## 알고리즘의 초기값을 고정시키면 항상 같은 난수를 얻을 수 있다. => 재현성\n",
    "\n",
    "np.random.seed(3) #씨드값을 잡아주면 해결!\n",
    "arr = np.random.randint(0,10,(5,)) # 0부터 10사이 1차원이고 5개 정수를 균등분포로 추출\n",
    "\n",
    "print(arr)"
   ]
  },
  {
   "cell_type": "code",
   "execution_count": null,
   "metadata": {},
   "outputs": [],
   "source": []
  }
 ],
 "metadata": {
  "kernelspec": {
   "display_name": "[CPU_ENV]",
   "language": "python",
   "name": "cpu_env"
  },
  "language_info": {
   "codemirror_mode": {
    "name": "ipython",
    "version": 3
   },
   "file_extension": ".py",
   "mimetype": "text/x-python",
   "name": "python",
   "nbconvert_exporter": "python",
   "pygments_lexer": "ipython3",
   "version": "3.6.9"
  }
 },
 "nbformat": 4,
 "nbformat_minor": 2
}
