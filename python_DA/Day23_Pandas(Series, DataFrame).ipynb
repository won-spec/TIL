{
 "cells": [
  {
   "cell_type": "code",
   "execution_count": 4,
   "metadata": {},
   "outputs": [],
   "source": [
    "## Pandas는 python으로 data 분석을 하기 위한 최적의 module\n",
    "\n",
    "## Pandas는 새로 정의된 2가지 데이터 타입을 사용\n",
    "\n",
    "## 1.Sereies : NumPy의 1차원 array와 유사\n",
    "## 2.DataFrame : Seires를 모아모아서 Table형태고 구서한 자료구조\n",
    "## Pandas를 이용하기 위해 module 설치부터 하자\n",
    "\n",
    "## conda install pandas\n",
    "import pandas as pd\n",
    "import numpy as np"
   ]
  },
  {
   "cell_type": "code",
   "execution_count": 22,
   "metadata": {
    "collapsed": true
   },
   "outputs": [
    {
     "name": "stdout",
     "output_type": "stream",
     "text": [
      "[-1 5 3.14 'Hello']\n",
      "object\n",
      "3.14\n",
      "<class 'float'>\n"
     ]
    }
   ],
   "source": [
    "# Series를 생성해 보자\n",
    "# NumPy array( ndarray )와 비교해서 확인.\n",
    "\n",
    "# 먼저 ndarray부터 다시 한번 알아보자\n",
    "\n",
    "# arr = np.array([-1,5,8,10], dtype=np.float64)\n",
    "# arr = np.array([-1,5,8,10], dtype=\"float64\")\n",
    "arr = np.array([-1,5,3.14,\"Hello\"], dtype=np.object) # dtype을 객체로 잡으면 각각 class의 객체형채로 저장\n",
    "print(arr)\n",
    "print(arr.dtype)    # object\n",
    "print(arr[2])       # 3.14\n",
    "print(type(arr[2])) # <class 'float'>"
   ]
  },
  {
   "cell_type": "code",
   "execution_count": 40,
   "metadata": {
    "collapsed": true
   },
   "outputs": [
    {
     "name": "stdout",
     "output_type": "stream",
     "text": [
      "0       -1\n",
      "1        5\n",
      "2     3.14\n",
      "3    hello\n",
      "dtype: object\n",
      "====================================================================================================\n",
      "Series의 value부분 : [-1 5 3.14 'hello']\n",
      "Series의 value부분의 type : <class 'numpy.ndarray'>\n",
      "Series의 value부분 dtype : object\n",
      "====================================================================================================\n",
      "Series의 index부분 : RangeIndex(start=0, stop=4, step=1)\n",
      "Series의 index부분 : <class 'pandas.core.indexes.range.RangeIndex'>\n"
     ]
    }
   ],
   "source": [
    "## Series를 생성해보자\n",
    "## Series 내부에 NumPy를 가지고 있다. \n",
    "arr = np.array([-1,5,3.14,\"hello\"], dtype=np.object)\n",
    "s = pd.Series([-1,5,3.14,\"hello\"], dtype=\"object\")\n",
    "\n",
    "print(s)\n",
    "print(\"=\"*100)\n",
    "# 1. Series의 value부분 출력\n",
    "print(\"Series의 value부분 : {}\".format(s.values))\n",
    "print(\"Series의 value부분의 type : {}\".format(type(s.values))) #s.value는 ndarray\n",
    "\n",
    "# 2. Series의 data type(dtype)\n",
    "# print(\"Series의 value부분 dtype : {}\".format(s.values.dtype))\n",
    "print(\"Series의 value부분 dtype : {}\".format(s.dtype)) # 위와 같은 의미\n",
    "print(\"=\"*100)\n",
    "\n",
    "# 3. Series의 index부분 출력\n",
    "print(\"Series의 index부분 : {}\".format(s.index))\n",
    "print(\"Series의 index부분 : {}\".format(type(s.index)))\n"
   ]
  },
  {
   "cell_type": "code",
   "execution_count": 46,
   "metadata": {
    "collapsed": true
   },
   "outputs": [
    {
     "name": "stdout",
     "output_type": "stream",
     "text": [
      "k    -1\n",
      "c     5\n",
      "k     8\n",
      "f    10\n",
      "dtype: int32\n",
      "\n",
      "5\n",
      "k   -1\n",
      "k    8\n",
      "dtype: int32\n"
     ]
    }
   ],
   "source": [
    "## Seires는 index를 따로 지정할 수 있어요\n",
    "## 숫자 index는 기본으로 제공\n",
    "s = pd.Series([-1,5,8,10],\n",
    "              dtype=np.int32,\n",
    "#               index=[\"a\",\"c\",\"k\",\"f\"],\n",
    "              index=[\"k\",\"c\",\"k\",\"f\"])\n",
    "print(s)\n",
    "print()\n",
    "#index를 새롭게 지정하면 숫자이덱스는 사용할 수 없을까?\n",
    "print(s[1])   # 5출력 => 숫자 index는 기본으로 사용가능!\n",
    "print(s[\"k\"]) # -1, 8출력 => 당연히 지정한 index를 활용한 access가능!\n",
    "              # 만약 지정한 index가 겹치면 겹친 index의 모든 값 access 그리고 Series로 출력"
   ]
  },
  {
   "cell_type": "code",
   "execution_count": 67,
   "metadata": {
    "collapsed": true
   },
   "outputs": [
    {
     "name": "stdout",
     "output_type": "stream",
     "text": [
      "a    -1\n",
      "c     5\n",
      "k     8\n",
      "f    10\n",
      "dtype: int32\n",
      "\n",
      "a   -1\n",
      "c    5\n",
      "dtype: int32\n",
      "\n",
      "a   -1\n",
      "c    5\n",
      "k    8\n",
      "dtype: int32\n",
      "\n",
      "k     8\n",
      "f    10\n",
      "dtype: int32\n",
      "\n",
      "a   -1\n",
      "k    8\n",
      "dtype: int32\n",
      "\n",
      "22\n"
     ]
    }
   ],
   "source": [
    "s = pd.Series([-1,5,8,10],\n",
    "              dtype=np.int32,\n",
    "              index=[\"a\",\"c\",\"k\",\"f\"])\n",
    "print(s)\n",
    "print()\n",
    "# ndarray에서 indexing 사용가능, slicing도 사용가능\n",
    "# Series도 Slicing을 이용가능!\n",
    "print(s[0:2]) # 숫자로 할때에는 앞쪽만 inclusive\n",
    "print()\n",
    "print(s[\"a\":\"k\"]) # 숫자로 할때에는 앞뒤모두 inclusive 범위 조심!\n",
    "print()\n",
    "print(s[s%2==0])  # Boolean indexing도 사용가능!\n",
    "print()\n",
    "print(s[[0,2]])   # Fancy indexing\n",
    "print()\n",
    "print(s.sum())    # ndarray의 집계함수를 그대로 다 이용가능\n"
   ]
  },
  {
   "cell_type": "code",
   "execution_count": 93,
   "metadata": {
    "collapsed": true
   },
   "outputs": [
    {
     "name": "stdout",
     "output_type": "stream",
     "text": [
      "[1, 2, 3, 4, 1, 2, 3, 4]\n",
      "\n",
      "[2, 4, 6, 8]\n",
      "\n",
      "[2, 4, 6, 8]\n",
      "[6, 8]\n",
      "\n",
      "{'stu0': 0, 'stu1': 1, 'stu2': 4, 'stu3': 9, 'stu4': 16, 'stu5': 25, 'stu6': 36, 'stu7': 49, 'stu8': 64, 'stu9': 81}\n"
     ]
    }
   ],
   "source": [
    "## for문\n",
    "## for문을 list를 만들 때 사용 가능\n",
    "myList = [1,2,3,4]\n",
    "## 생성하고 싶은 list는 각 요소에 *2를 한 list\n",
    "## [2,4,6,8]\n",
    "result = myList * 2\n",
    "print(result) #[1, 2, 3, 4, 1, 2, 3, 4] 출력 list는 vector의 성질이 아니다\n",
    "print()\n",
    "\n",
    "# Naive한 방식\n",
    "result = list()\n",
    "for i in myList:\n",
    "    result.append(i*2)\n",
    "print(result)\n",
    "print()\n",
    "\n",
    "# 효율적으로 만들자!\n",
    "result = [x*2 for x in myList]\n",
    "print(result)\n",
    "\n",
    "result = [x*2 for x in myList if x > 2]\n",
    "print(result)\n",
    "print()\n",
    "# dict에도 사용할 수 있다!\n",
    "result = { \"stu\" + str(x) : x **2 for x in range(0,10)}\n",
    "print(result)\n",
    "\n"
   ]
  },
  {
   "cell_type": "code",
   "execution_count": 115,
   "metadata": {
    "collapsed": true
   },
   "outputs": [
    {
     "name": "stdout",
     "output_type": "stream",
     "text": [
      "2019-11-20 11:01:31.361927\n",
      "<class 'datetime.datetime'>\n",
      "연도 : 2019\n",
      "월 : 11\n",
      "일 : 20\n",
      "시 : 11\n",
      "분 : 1\n",
      "초 : 31\n",
      "마이크로초 : 361927\n"
     ]
    }
   ],
   "source": [
    "## 많이 사용되는 데이터 타입중 날짜가 있다\n",
    "from datetime import date, datetime\n",
    "## 오늘 날짜를 구해보자\n",
    "today = date.today() # 시스템에 설정된 오늘 날짜를 구해온다\n",
    "# print(today)\n",
    "# print(type(today))\n",
    "# print(\"연도 : {}\".format(today.year))\n",
    "# print(\"월 : {}\".format(today.month))\n",
    "# print(\"일 : {}\".format(today.day))\n",
    "# print()\n",
    "      \n",
    "## 시간?\n",
    "today = datetime.today() # 시스템에 설정된 오늘 날짜와 시간 구해온다\n",
    "print(today)\n",
    "print(type(today))\n",
    "print(\"연도 : {}\".format(today.year))\n",
    "print(\"월 : {}\".format(today.month))\n",
    "print(\"일 : {}\".format(today.day))\n",
    "print(\"시 : {}\".format(today.hour))\n",
    "print(\"분 : {}\".format(today.minute))\n",
    "print(\"초 : {}\".format(today.second))\n",
    "print(\"마이크로초 : {}\".format(today.microsecond))\n",
    "      "
   ]
  },
  {
   "cell_type": "code",
   "execution_count": 140,
   "metadata": {
    "collapsed": true
   },
   "outputs": [
    {
     "name": "stdout",
     "output_type": "stream",
     "text": [
      "2019-11-20 11:09:57.656199\n",
      "2019-11-19 11:09:57.656199\n",
      "\n",
      "2019-11-20 11:09:57.657197\n",
      "2019-10-20 11:09:57.657197\n"
     ]
    }
   ],
   "source": [
    "from datetime import date, datetime, timedelta\n",
    "from dateutil.relativedelta import relativedelta\n",
    "\n",
    "today = datetime.today()\n",
    "print(today)\n",
    "day = timedelta(days=-1)\n",
    "# weeks, days, hours, minutes, seconds / 년도와 월은 안됨(윤년과 윤달때문에) 다른delta사용\n",
    "result = today + day\n",
    "print(result)\n",
    "print()\n",
    "\n",
    "# relativedelta\n",
    "today = datetime.today()\n",
    "print(today)\n",
    "day = relativedelta(months=-1)\n",
    "# years, months\n",
    "result = today + day\n",
    "print(result)"
   ]
  },
  {
   "cell_type": "code",
   "execution_count": 152,
   "metadata": {
    "collapsed": true
   },
   "outputs": [
    {
     "name": "stdout",
     "output_type": "stream",
     "text": [
      "오늘의 날짜 : 2019-03-31 00:00:00\n",
      "2019-02-28 00:00:00\n"
     ]
    }
   ],
   "source": [
    "from datetime import date, datetime, timedelta\n",
    "from dateutil.relativedelta import relativedelta\n",
    "from dateutil.parser import parse  \n",
    "#오늘 날자가 3월 31일 => 1달전?? 2월 28일 or 2월 29일\n",
    "today = parse(\"2019-03-31\")\n",
    "print(\"오늘의 날짜 : {}\".format(today))\n",
    "day = relativedelta(months=-1)\n",
    "print(today + day)\n"
   ]
  },
  {
   "cell_type": "code",
   "execution_count": 266,
   "metadata": {
    "collapsed": true
   },
   "outputs": [
    {
     "name": "stdout",
     "output_type": "stream",
     "text": [
      "2019-01-01    58\n",
      "2019-01-02    46\n",
      "2019-01-03    47\n",
      "2019-01-04    44\n",
      "2019-01-05    54\n",
      "2019-01-06    38\n",
      "2019-01-07    58\n",
      "2019-01-08    46\n",
      "2019-01-09    51\n",
      "2019-01-10    48\n",
      "dtype: int64\n",
      "2019-01-05    81\n",
      "2019-01-06    53\n",
      "2019-01-07    67\n",
      "2019-01-08    66\n",
      "2019-01-09    79\n",
      "2019-01-10    61\n",
      "2019-01-11    68\n",
      "2019-01-12    62\n",
      "2019-01-13    70\n",
      "2019-01-14    74\n",
      "dtype: int64\n",
      "2019-01-01      NaN\n",
      "2019-01-02      NaN\n",
      "2019-01-03      NaN\n",
      "2019-01-04      NaN\n",
      "2019-01-05    135.0\n",
      "2019-01-06     91.0\n",
      "2019-01-07    125.0\n",
      "2019-01-08    112.0\n",
      "2019-01-09    130.0\n",
      "2019-01-10    109.0\n",
      "2019-01-11      NaN\n",
      "2019-01-12      NaN\n",
      "2019-01-13      NaN\n",
      "2019-01-14      NaN\n",
      "dtype: float64\n"
     ]
    }
   ],
   "source": [
    "## A공장의 2019-01-01 부터 10일간 제품생산량을 Series로 저장\n",
    "## 생산량은 랜덤으로 결정, 평균이 50이고 표준편차가 5인 정규분포에서 random하게 추출 (정수)\n",
    "## 2019-01-01 53\n",
    "## 2019-01-02 51\n",
    "## 2019-01-03 46\n",
    "## index를 날짜로 잡아\n",
    "\n",
    "## B공장의 2019-01-01부터 10일간 제품생산량을 Serise로 저장\n",
    "## 생산량은 랜덤으로 결정, 평균이 57이고 표준편차가 8인 정규분포에서 random하게 추출(정수)\n",
    "## 공장의 날짜별 생산량\n",
    "sday1 = parse(\"2019-01-01\")\n",
    "\n",
    "np.random.seed(1)\n",
    "arr = np.random.normal(50,5,(10,))\n",
    "fa = pd.Series([int(x) for x in arr],\n",
    "                index=[(sday1 + timedelta(days=x)) for x in range(10)])\n",
    "print(fa)\n",
    "\n",
    "sday2 = parse(\"2019-01-05\")\n",
    "arr = np.random.normal(70,8,(10,))\n",
    "fb = pd.Series([int(x) for x in arr],\n",
    "              index=[(sday2 + timedelta(days=x)) for x in range(10)])\n",
    "print(fb)\n",
    "\n",
    "print(fa+fb)"
   ]
  },
  {
   "cell_type": "code",
   "execution_count": 271,
   "metadata": {
    "collapsed": true
   },
   "outputs": [
    {
     "name": "stdout",
     "output_type": "stream",
     "text": [
      "2019-01-01 00:00:00\n",
      "2019-01-01     58\n",
      "2019-01-02     46\n",
      "2019-01-03     47\n",
      "2019-01-04     44\n",
      "2019-01-05    135\n",
      "2019-01-06     91\n",
      "2019-01-07    125\n",
      "2019-01-08    112\n",
      "2019-01-09    130\n",
      "2019-01-10    109\n",
      "2019-01-11     68\n",
      "2019-01-12     62\n",
      "2019-01-13     70\n",
      "2019-01-14     74\n",
      "dtype: int64\n"
     ]
    }
   ],
   "source": [
    "import numpy as np\n",
    "import pandas as pd\n",
    "from datetime import date, datetime, timedelta\n",
    "from dateutil.parser import parse\n",
    "np.random.seed(1)\n",
    "# A공장\n",
    "start_day1 = parse(\"2019-01-01\")\n",
    "# start_day = datetime(2019,1,1)\n",
    "print(start_day)\n",
    "\n",
    "factoryA = pd.Series([int(x) for x in np.random.normal(50,5,(10,))],\n",
    "                     index=[start_day1 + timedelta(days=i) for i in range(10)])\n",
    "# print(factoryA)\n",
    "start_day2 = parse(\"2019-01-05\")\n",
    "factoryB = pd.Series([int(x) for x in np.random.normal(70,8,(10,))],\n",
    "                     index=[start_day2 + timedelta(days=i) for i in range(10)])\n",
    "# print(factoryB)\n",
    "\n",
    "# print(factoryA + factoryB)\n",
    "\n",
    "index_a = set(factoryA.index)\n",
    "index_b = set(factoryB.index)\n",
    "\n",
    "index_a_b = index_a - index_b\n",
    "index_b_a = index_b - index_a\n",
    "\n",
    "for i in index_a_b:\n",
    "    factoryB[i] = 0\n",
    "for i in index_b_a:\n",
    "    factoryA[i] = 0\n",
    "    \n",
    "print(factoryA + factoryB)"
   ]
  },
  {
   "cell_type": "code",
   "execution_count": 259,
   "metadata": {
    "collapsed": true
   },
   "outputs": [
    {
     "ename": "IndexError",
     "evalue": "only integers, slices (`:`), ellipsis (`...`), numpy.newaxis (`None`) and integer or boolean arrays are valid indices",
     "output_type": "error",
     "traceback": [
      "\u001b[1;31m---------------------------------------------------------------------------\u001b[0m",
      "\u001b[1;31mIndexError\u001b[0m                                Traceback (most recent call last)",
      "\u001b[1;32m<ipython-input-259-8a04d17f0c79>\u001b[0m in \u001b[0;36m<module>\u001b[1;34m\u001b[0m\n\u001b[0;32m      2\u001b[0m \u001b[1;32mfor\u001b[0m \u001b[0mi\u001b[0m \u001b[1;32min\u001b[0m \u001b[0mfa\u001b[0m\u001b[1;33m.\u001b[0m\u001b[0mindex\u001b[0m\u001b[1;33m:\u001b[0m\u001b[1;33m\u001b[0m\u001b[1;33m\u001b[0m\u001b[0m\n\u001b[0;32m      3\u001b[0m     \u001b[1;32mfor\u001b[0m \u001b[0mj\u001b[0m \u001b[1;32min\u001b[0m \u001b[0mfb\u001b[0m\u001b[1;33m.\u001b[0m\u001b[0mindex\u001b[0m\u001b[1;33m:\u001b[0m\u001b[1;33m\u001b[0m\u001b[1;33m\u001b[0m\u001b[0m\n\u001b[1;32m----> 4\u001b[1;33m         \u001b[1;32mif\u001b[0m \u001b[1;33m(\u001b[0m\u001b[0mfa\u001b[0m\u001b[1;33m.\u001b[0m\u001b[0mindex\u001b[0m\u001b[1;33m[\u001b[0m\u001b[0mi\u001b[0m\u001b[1;33m]\u001b[0m \u001b[1;33m==\u001b[0m \u001b[0mfb\u001b[0m\u001b[1;33m.\u001b[0m\u001b[0mindex\u001b[0m\u001b[1;33m[\u001b[0m\u001b[0mj\u001b[0m\u001b[1;33m]\u001b[0m\u001b[1;33m)\u001b[0m\u001b[1;33m==\u001b[0m\u001b[1;32mTrue\u001b[0m\u001b[1;33m:\u001b[0m\u001b[1;33m\u001b[0m\u001b[1;33m\u001b[0m\u001b[0m\n\u001b[0m\u001b[0;32m      5\u001b[0m             \u001b[0mRf\u001b[0m\u001b[1;33m[\u001b[0m\u001b[0mi\u001b[0m\u001b[1;33m]\u001b[0m\u001b[1;33m=\u001b[0m\u001b[1;33m(\u001b[0m\u001b[0mfa\u001b[0m\u001b[1;33m[\u001b[0m\u001b[0mi\u001b[0m\u001b[1;33m]\u001b[0m\u001b[1;33m+\u001b[0m\u001b[0mfb\u001b[0m\u001b[1;33m[\u001b[0m\u001b[0mj\u001b[0m\u001b[1;33m]\u001b[0m\u001b[1;33m)\u001b[0m\u001b[1;33m\u001b[0m\u001b[1;33m\u001b[0m\u001b[0m\n\u001b[0;32m      6\u001b[0m         \u001b[1;32melse\u001b[0m\u001b[1;33m:\u001b[0m\u001b[1;33m\u001b[0m\u001b[1;33m\u001b[0m\u001b[0m\n",
      "\u001b[1;32m~\\Anaconda3\\envs\\cpu_env\\lib\\site-packages\\pandas\\core\\indexes\\datetimes.py\u001b[0m in \u001b[0;36m__getitem__\u001b[1;34m(self, key)\u001b[0m\n\u001b[0;32m   1218\u001b[0m \u001b[1;33m\u001b[0m\u001b[0m\n\u001b[0;32m   1219\u001b[0m     \u001b[1;32mdef\u001b[0m \u001b[0m__getitem__\u001b[0m\u001b[1;33m(\u001b[0m\u001b[0mself\u001b[0m\u001b[1;33m,\u001b[0m \u001b[0mkey\u001b[0m\u001b[1;33m)\u001b[0m\u001b[1;33m:\u001b[0m\u001b[1;33m\u001b[0m\u001b[1;33m\u001b[0m\u001b[0m\n\u001b[1;32m-> 1220\u001b[1;33m         \u001b[0mresult\u001b[0m \u001b[1;33m=\u001b[0m \u001b[0mself\u001b[0m\u001b[1;33m.\u001b[0m\u001b[0m_data\u001b[0m\u001b[1;33m.\u001b[0m\u001b[0m__getitem__\u001b[0m\u001b[1;33m(\u001b[0m\u001b[0mkey\u001b[0m\u001b[1;33m)\u001b[0m\u001b[1;33m\u001b[0m\u001b[1;33m\u001b[0m\u001b[0m\n\u001b[0m\u001b[0;32m   1221\u001b[0m         \u001b[1;32mif\u001b[0m \u001b[0mis_scalar\u001b[0m\u001b[1;33m(\u001b[0m\u001b[0mresult\u001b[0m\u001b[1;33m)\u001b[0m\u001b[1;33m:\u001b[0m\u001b[1;33m\u001b[0m\u001b[1;33m\u001b[0m\u001b[0m\n\u001b[0;32m   1222\u001b[0m             \u001b[1;32mreturn\u001b[0m \u001b[0mresult\u001b[0m\u001b[1;33m\u001b[0m\u001b[1;33m\u001b[0m\u001b[0m\n",
      "\u001b[1;32m~\\Anaconda3\\envs\\cpu_env\\lib\\site-packages\\pandas\\core\\arrays\\datetimelike.py\u001b[0m in \u001b[0;36m__getitem__\u001b[1;34m(self, key)\u001b[0m\n\u001b[0;32m    417\u001b[0m         \u001b[1;32mif\u001b[0m \u001b[0mlib\u001b[0m\u001b[1;33m.\u001b[0m\u001b[0mis_scalar\u001b[0m\u001b[1;33m(\u001b[0m\u001b[0mkey\u001b[0m\u001b[1;33m)\u001b[0m \u001b[1;32mand\u001b[0m \u001b[1;32mnot\u001b[0m \u001b[0mis_int\u001b[0m\u001b[1;33m:\u001b[0m\u001b[1;33m\u001b[0m\u001b[1;33m\u001b[0m\u001b[0m\n\u001b[0;32m    418\u001b[0m             raise IndexError(\n\u001b[1;32m--> 419\u001b[1;33m                 \u001b[1;34m\"only integers, slices (`:`), ellipsis (`...`), \"\u001b[0m\u001b[1;33m\u001b[0m\u001b[1;33m\u001b[0m\u001b[0m\n\u001b[0m\u001b[0;32m    420\u001b[0m                 \u001b[1;34m\"numpy.newaxis (`None`) and integer or boolean \"\u001b[0m\u001b[1;33m\u001b[0m\u001b[1;33m\u001b[0m\u001b[0m\n\u001b[0;32m    421\u001b[0m                 \u001b[1;34m\"arrays are valid indices\"\u001b[0m\u001b[1;33m\u001b[0m\u001b[1;33m\u001b[0m\u001b[0m\n",
      "\u001b[1;31mIndexError\u001b[0m: only integers, slices (`:`), ellipsis (`...`), numpy.newaxis (`None`) and integer or boolean arrays are valid indices"
     ]
    }
   ],
   "source": [
    "Rf=fa+fb\n",
    "for i in fa.index:\n",
    "    for j in fb.index:\n",
    "        if (fa.index[i] == fb.index[j])==True:\n",
    "            Rf[i]=(fa[i]+fb[j])\n",
    "        else:\n",
    "            if Rf.index[i] <= sday2:\n",
    "                Rf[i]=fa[i]\n",
    "            else:\n",
    "                Rf[i]=fb[i]\n"
   ]
  },
  {
   "cell_type": "code",
   "execution_count": null,
   "metadata": {},
   "outputs": [],
   "source": [
    "for i in Rf.index:\n",
    "    if Rf[i] == NaN:\n",
    "        if Rf.index[i] < sday2:"
   ]
  },
  {
   "cell_type": "code",
   "execution_count": 262,
   "metadata": {
    "collapsed": true
   },
   "outputs": [
    {
     "name": "stdout",
     "output_type": "stream",
     "text": [
      "2019-01-01      NaN\n",
      "2019-01-02      NaN\n",
      "2019-01-03      NaN\n",
      "2019-01-04      NaN\n",
      "2019-01-05    135.0\n",
      "2019-01-06     91.0\n",
      "2019-01-07    125.0\n",
      "2019-01-08    112.0\n",
      "2019-01-09    130.0\n",
      "2019-01-10    109.0\n",
      "2019-01-11      NaN\n",
      "2019-01-12      NaN\n",
      "2019-01-13      NaN\n",
      "2019-01-14      NaN\n",
      "dtype: float64\n",
      "2019-01-04 00:00:00\n",
      "2019-01-05 00:00:00\n"
     ]
    },
    {
     "data": {
      "text/plain": [
       "nan"
      ]
     },
     "execution_count": 262,
     "metadata": {},
     "output_type": "execute_result"
    }
   ],
   "source": [
    "Rf=fa+fb\n",
    "print(Rf)\n",
    "print(fa.index[3])\n",
    "print(fb.index[0])\n",
    "fa.index[3] < fb.index[0]\n",
    "Rf[1]\n"
   ]
  },
  {
   "cell_type": "code",
   "execution_count": 278,
   "metadata": {
    "collapsed": true
   },
   "outputs": [
    {
     "name": "stdout",
     "output_type": "stream",
     "text": [
      "지역명\n",
      "서울    1000\n",
      "부산    3000\n",
      "제주    5000\n",
      "Name: 지역별 가격 데이터, dtype: int64\n"
     ]
    }
   ],
   "source": [
    "## Series를 생성할 때 list를 이용해서 만들었어요\n",
    "## dict()를 이용해서 Series를 생성할 수 있어요\n",
    "import numpy as np\n",
    "import pandas as pd\n",
    "\n",
    "myDict = { \"서울\" : 1000, \"부산\" : 3000, \"제주\" : 5000 }\n",
    "s = pd.Series(myDict)\n",
    "s.name = \"지역별 가격 데이터\" # Series 자체에 논리적인 이름\n",
    "s.index.name = \"지역명\"\n",
    "print(s)"
   ]
  }
 ],
 "metadata": {
  "kernelspec": {
   "display_name": "[CPU_ENV]",
   "language": "python",
   "name": "cpu_env"
  },
  "language_info": {
   "codemirror_mode": {
    "name": "ipython",
    "version": 3
   },
   "file_extension": ".py",
   "mimetype": "text/x-python",
   "name": "python",
   "nbconvert_exporter": "python",
   "pygments_lexer": "ipython3",
   "version": "3.6.9"
  }
 },
 "nbformat": 4,
 "nbformat_minor": 2
}
