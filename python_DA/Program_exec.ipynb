{
 "cells": [
  {
   "cell_type": "code",
   "execution_count": 14,
   "metadata": {},
   "outputs": [
    {
     "name": "stdout",
     "output_type": "stream",
     "text": [
      "233168\n"
     ]
    }
   ],
   "source": [
    "### 문제 1.\n",
    "# 10보다 작은 자연수 중에서 3또는5의 배수는\n",
    "# 3, 5, 6, 9.... 이것들의 합은 23입니다\n",
    "\n",
    "# 1000보다 작은 자연수 중에서 3또는 5의 배수들을 구해서 모두 합하면 답:233168\n",
    "\n",
    "result=0\n",
    "for k in range(1000):\n",
    "    if k%3 ==0 or k%5 ==0:\n",
    "        result= result +k\n",
    "    else:\n",
    "        pass\n",
    "print(result)\n"
   ]
  },
  {
   "cell_type": "code",
   "execution_count": 225,
   "metadata": {},
   "outputs": [
    {
     "name": "stdout",
     "output_type": "stream",
     "text": [
      "4613732\n",
      "4613732\n"
     ]
    }
   ],
   "source": [
    "### 문제 2.\n",
    "# 피보나치 수열의 각항은 바로 앞의 항 2개를 더한 것이 되요\n",
    "# 1,2,3,5,8,13,21,34...\n",
    "\n",
    "# 짝수이면서 4백만 이하인 모든 항을 더하면?\n",
    "bef_seq=0\n",
    "aft_seq=1\n",
    "seq=1\n",
    "even_seq_sum=0\n",
    "while seq <= 4000000:\n",
    "    bef_seq = aft_seq \n",
    "    aft_seq = seq\n",
    "    seq = bef_seq + aft_seq\n",
    "    if seq%2 == 0:\n",
    "        even_seq_sum = even_seq_sum + seq\n",
    "    else:\n",
    "        pass\n",
    "print(even_seq_sum)\n",
    "\n",
    "############################## 강사님 풀이#############################\n",
    "pb_seq = [1,2]\n",
    "sum=0\n",
    "while pb_seq[-1] <= 4000000:\n",
    "    k = pb_seq[-1] + pb_seq[-2]\n",
    "    pb_seq.append(k)\n",
    "for k in pb_seq:\n",
    "    if k%2 == 0:\n",
    "        sum=sum+k\n",
    "    else:\n",
    "        pass\n",
    "print(sum)"
   ]
  },
  {
   "cell_type": "code",
   "execution_count": 214,
   "metadata": {},
   "outputs": [
    {
     "name": "stdout",
     "output_type": "stream",
     "text": [
      "가장 많이 나온 문자는 i이고 7개 나왔다\n"
     ]
    }
   ],
   "source": [
    "### 문제3\n",
    "# 알파벳 대소문자로 되어 잇는 문자열이 주어져요.\n",
    "# 이 문자열에서 가장 많이 사용된 알파벳이 무엇인지 출력하는 프로그램\n",
    "# 단 대소문자 구별하지 않아요 만약 동률이 존재하면 알파벳 순서가 제일 앞에 잇는 알파벳을 출력\n",
    "# 공백은 제외\n",
    "\n",
    "# This is a sample Program mississippi river\n",
    "# abcdabcdabccddcd\n",
    "a=\"This is a sample Program mississippi river\"\n",
    "b = list(set(sorted(a.lower())) # 문자열 소트 하고 set로 해서 중복 뺴고 list로 만들기\n",
    "c = list()\n",
    "for i in b:\n",
    "    if i == \" \":\n",
    "        pass\n",
    "    else:\n",
    "        k = sorted(a.lower()).count(i)\n",
    "        c.append(k)\n",
    "d = c.index(max(c))\n",
    "print(\"가장 많이 나온 문자는 {0}이고 {1}개 나왔다\".format(b[d],max(c)))\n",
    "\n"
   ]
  },
  {
   "cell_type": "code",
   "execution_count": 8,
   "metadata": {},
   "outputs": [],
   "source": [
    "##문제 4:\n",
    "##로또 프로그램을 작성\n",
    "##5천원으로 로또복권 5장을 자동으로 구매\n",
    "##이번주 로또 당첨번호를 생성하여 구매한 로또가 당첨이 됐는지 확인\n",
    "##쉬운버전부터 해보자 => 보너스 번호가 없다\n",
    "## 1등 : 6개\n",
    "## 2등 : 5개\n",
    "## 3등 : 4개\n",
    "## 4등 : 3개\n",
    "\n",
    "## 5장의 로또번호가 몇등에 당첨되었는지 출력!!\n",
    "## 랜덤번호 추출은 다음의 코드를 이용\n",
    "import random\n",
    "#a = random.randint(1,10) # 1이상 10이하의 정수형 난수를 생성\n",
    "#print(a)\n"
   ]
  },
  {
   "cell_type": "code",
   "execution_count": 11,
   "metadata": {},
   "outputs": [
    {
     "name": "stdout",
     "output_type": "stream",
     "text": [
      "당첨번호 :  {35, 41, 42, 12, 19, 26}\n",
      "꽝\n",
      "게임번호 :  {6, 39, 41, 15, 18, 31}\n",
      "당첨번호 :  {35, 41, 42, 12, 19, 26}\n",
      "맞은 번호는 [41]입니다\n",
      "꽝\n",
      "게임번호 :  {40, 41, 16, 17, 21, 22}\n",
      "당첨번호 :  {35, 41, 42, 12, 19, 26}\n",
      "맞은 번호는 [41]입니다\n",
      "꽝\n",
      "게임번호 :  {32, 37, 43, 45, 28, 30}\n",
      "당첨번호 :  {35, 41, 42, 12, 19, 26}\n",
      "맞은 번호는 []입니다\n",
      "꽝\n",
      "게임번호 :  {34, 6, 19, 21, 24, 29}\n",
      "당첨번호 :  {35, 41, 42, 12, 19, 26}\n",
      "맞은 번호는 [19]입니다\n",
      "꽝\n",
      "게임번호 :  {32, 19, 22, 25, 26, 29}\n",
      "당첨번호 :  {35, 41, 42, 12, 19, 26}\n",
      "맞은 번호는 [19, 26]입니다\n"
     ]
    }
   ],
   "source": [
    "lucky_num = set()\n",
    "while len(lucky_num) <6:\n",
    "    lucky_num.add(random.randint(1,45))\n",
    "# print(lotto_num)\n",
    "# print(type(list(lotto_num)))\n",
    "# print(list(lotto_num))\n",
    "print(\"당첨번호 : \",lucky_num)\n",
    "\n",
    "\n",
    "for i in range(5):\n",
    "    lotto = set()\n",
    "    while len(lotto) <6:\n",
    "        lotto.add(random.randint(1,45))\n",
    "    if len((lotto & lucky_num)) == 6:\n",
    "        print(\"1등!!!!!!!!!!!!!!!!!!!!!!!!!!!!!!!!!!!!!!!!!!\")\n",
    "    elif len((lotto & lucky_num)) == 5:\n",
    "        print(\"2등!!!!!!!!!!!!!!!!!\")\n",
    "    elif len((lotto & lucky_num)) == 4:\n",
    "        print(\"3등!!!!!!!!\")\n",
    "    elif len((lotto & lucky_num)) == 3:\n",
    "        print(\"4등!!!\")\n",
    "    else:\n",
    "        print(\"꽝\")\n",
    "    print(\"게임번호 : \",lotto)\n",
    "    print(\"당첨번호 : \",lucky_num)\n",
    "    print(\"맞은 번호는 {}입니다\".format(sorted(lotto & lucky_num)))\n",
    "    "
   ]
  },
  {
   "cell_type": "code",
   "execution_count": 12,
   "metadata": {},
   "outputs": [
    {
     "name": "stdout",
     "output_type": "stream",
     "text": [
      "꽝\n",
      "게임번호 :  {7, 12, 21, 23, 26, 27}\n",
      "당첨번호 :  {35, 41, 42, 12, 19, 26}\n",
      "맞은 번호는 [12, 26]입니다\n",
      "꽝\n",
      "게임번호 :  {2, 38, 7, 17, 20, 30}\n",
      "당첨번호 :  {35, 41, 42, 12, 19, 26}\n",
      "맞은 번호는 []입니다\n",
      "꽝\n",
      "게임번호 :  {39, 16, 20, 21, 24, 28}\n",
      "당첨번호 :  {35, 41, 42, 12, 19, 26}\n",
      "맞은 번호는 []입니다\n",
      "꽝\n",
      "게임번호 :  {36, 37, 40, 44, 28, 29}\n",
      "당첨번호 :  {35, 41, 42, 12, 19, 26}\n",
      "맞은 번호는 []입니다\n",
      "꽝\n",
      "게임번호 :  {7, 40, 11, 45, 16, 31}\n",
      "당첨번호 :  {35, 41, 42, 12, 19, 26}\n",
      "맞은 번호는 []입니다\n",
      "예상게임 횟수는 23715415 회 입니다\n",
      "예상비용은 23,715,415,000원입니다\n",
      "[7, 11, 16, 31, 40, 45]\n",
      "Wall time: 4min 38s\n"
     ]
    }
   ],
   "source": [
    "%%time\n",
    "## 1등에 당첨되려면 평균적으로 얼마를 투자해야할까? 한게임에 1000원    \n",
    "for i in range(5):\n",
    "    lotto = set()\n",
    "    while len(lotto) <6:\n",
    "        lotto.add(random.randint(1,45))\n",
    "    if len((lotto & lucky_num)) == 6:\n",
    "        print(\"1등!!!!!!!!!!!!!!!!!!!!!!!!!!!!!!!!!!!!!!!!!!\")\n",
    "    elif len((lotto & lucky_num)) == 5:\n",
    "        print(\"2등!!!!!!!!!!!!!!!!!\")\n",
    "    elif len((lotto & lucky_num)) == 4:\n",
    "        print(\"3등!!!!!!!!\")\n",
    "    elif len((lotto & lucky_num)) == 3:\n",
    "        print(\"4등!!!\")\n",
    "    else:\n",
    "        print(\"꽝\")\n",
    "    print(\"게임번호 : \",lotto)\n",
    "    print(\"당첨번호 : \",lucky_num)\n",
    "    print(\"맞은 번호는 {}입니다\".format(sorted(lotto & lucky_num)))\n",
    "\n",
    "\n",
    "nCount = 0\n",
    "while True:\n",
    "    lucky_num = set()\n",
    "    while len(lucky_num) <6:\n",
    "        lucky_num.add(random.randint(1,45))\n",
    "    if len((lotto & lucky_num)) == 6:\n",
    "        break\n",
    "    else:\n",
    "        nCount +=1\n",
    "print(\"예상게임 횟수는 {} 회 입니다\".format(nCount))\n",
    "print(\"예상비용은 {:,}원입니다\".format(nCount*1000) )\n",
    "print(sorted(lucky_num))"
   ]
  },
  {
   "cell_type": "code",
   "execution_count": 1,
   "metadata": {},
   "outputs": [
    {
     "name": "stdout",
     "output_type": "stream",
     "text": [
      "[2, 3, 5, 7, 11, 13, 17, 19, 23, 29, 31]\n",
      "Wall time: 0 ns\n"
     ]
    },
    {
     "data": {
      "text/plain": [
       "[2, 3, 5, 7, 11, 13, 17, 19, 23, 29, 31]"
      ]
     },
     "execution_count": 1,
     "metadata": {},
     "output_type": "execute_result"
    }
   ],
   "source": [
    "%%time\n",
    "#문제 5\n",
    "#어떤수를 소수의 곱으로만 나타내는 것을 소인수 분해라고 한다.\n",
    "#이 소수들을 그 수의 소인수라고 한다\n",
    "#ex) 예를 들면 13195의 소인수는 5, 7, 13, 29\n",
    "\n",
    "## 600851475143의 소인수 중 가장 큰 수는 얼마일까요?\n",
    "\n",
    "var = 36\n",
    "\n",
    "myList = list()\n",
    "for i in range(2,var):\n",
    "    divcount = 0\n",
    "    for j in range(1,i):\n",
    "        if i % j == 0:\n",
    "            divcount = divcount + 1\n",
    "        else:\n",
    "            pass\n",
    "    if divcount == 1:\n",
    "        myList.append(i)\n",
    "    else:\n",
    "        pass\n",
    "print(myList)\n",
    "\n",
    "myList\n",
    "\n"
   ]
  },
  {
   "cell_type": "code",
   "execution_count": 136,
   "metadata": {},
   "outputs": [
    {
     "data": {
      "text/plain": [
       "36"
      ]
     },
     "execution_count": 136,
     "metadata": {},
     "output_type": "execute_result"
    }
   ],
   "source": [
    "var"
   ]
  },
  {
   "cell_type": "code",
   "execution_count": 2,
   "metadata": {
    "scrolled": true
   },
   "outputs": [
    {
     "name": "stdout",
     "output_type": "stream",
     "text": [
      "[2, 3]\n"
     ]
    }
   ],
   "source": [
    "result_List = list()\n",
    "myList\n",
    "\n",
    "for i in range(len(myList)):\n",
    "    if var % myList[i] == 0:\n",
    "        result_List.append(myList[i])\n",
    "    else:\n",
    "        pass\n",
    "print(result_List)"
   ]
  },
  {
   "cell_type": "code",
   "execution_count": 137,
   "metadata": {},
   "outputs": [
    {
     "data": {
      "text/plain": [
       "19500"
      ]
     },
     "execution_count": 137,
     "metadata": {},
     "output_type": "execute_result"
    }
   ],
   "source": [
    "## 문제 6.\n",
    "## 앞에서부터 읽을때나 뒤에서부터 읽을 때 모양이 같은 수를 대칭수라고 한다.\n",
    "## 예) 9009, 1111, 12321\n",
    "\n",
    "## 두자리수를 곱해서 만들수 있는 대칭수 중에 가장큰수는 9009(91*99)\n",
    "## 세자리수를 곱해서 만들수 있는 가장 큰 대칭수는?\n",
    "\n",
    "def myMulti(x,y):\n",
    "    result = x*y\n",
    "    return result\n",
    "\n",
    "myMulti(125,156)"
   ]
  },
  {
   "cell_type": "code",
   "execution_count": 139,
   "metadata": {},
   "outputs": [
    {
     "name": "stdout",
     "output_type": "stream",
     "text": [
      "['1', '2', '5', '6', '9', '4', '8']\n",
      "[1, 2, 5, 6, 9, 4, 8]\n",
      "[8, 4, 9, 6, 5, 2, 1]\n"
     ]
    }
   ],
   "source": [
    "def makeList(x):\n",
    "    str_x = str(x)\n",
    "    strList =list()\n",
    "    for i in range(len(str_x[:])):\n",
    "        strList.append(str_x[i])\n",
    "    strList\n",
    "\n",
    "    nmList = list()\n",
    "    for i in range(len(strList)):\n",
    "        nmList.append(int(strList[i]))\n",
    "    nmList\n",
    "\n",
    "    rev_nmList = list()\n",
    "    for i in range(len(strList)):\n",
    "        rev_nmList.append(int(strList[i]))\n",
    "    rev_nmList.reverse()\n",
    "\n",
    "# nmList = list()\n",
    "# for i in range()\n",
    "\n",
    "    print(strList)\n",
    "    print(nmList)\n",
    "    print(rev_nmList)\n",
    "    \n",
    "makeList(1256948)"
   ]
  },
  {
   "cell_type": "code",
   "execution_count": 123,
   "metadata": {
    "collapsed": true
   },
   "outputs": [
    {
     "ename": "SyntaxError",
     "evalue": "unexpected EOF while parsing (<ipython-input-123-7ea72cc000e5>, line 4)",
     "output_type": "error",
     "traceback": [
      "\u001b[1;36m  File \u001b[1;32m\"<ipython-input-123-7ea72cc000e5>\"\u001b[1;36m, line \u001b[1;32m4\u001b[0m\n\u001b[1;33m    \u001b[0m\n\u001b[1;37m    ^\u001b[0m\n\u001b[1;31mSyntaxError\u001b[0m\u001b[1;31m:\u001b[0m unexpected EOF while parsing\n"
     ]
    }
   ],
   "source": [
    "symmetryList = list()\n",
    "for i in range(len(nmList)):\n",
    "    if nmList[i] == rev_nmList[i]:\n",
    "        "
   ]
  },
  {
   "cell_type": "code",
   "execution_count": 130,
   "metadata": {},
   "outputs": [
    {
     "name": "stdout",
     "output_type": "stream",
     "text": [
      "906609\n"
     ]
    }
   ],
   "source": [
    "##################################강사님 풀이 시작####################################3\n",
    "\n",
    "## 문제 6.\n",
    "## 앞에서부터 읽을때나 뒤에서부터 읽을 때 모양이 같은 수를 대칭수라고 한다.\n",
    "## 예) 9009, 1111, 12321\n",
    "\n",
    "## 두자리수를 곱해서 만들수 있는 대칭수 중에 가장큰수는 9009(91*99)\n",
    "## 세자리수를 곱해서 만들수 있는 가장 큰 대칭수는?\n",
    "\n",
    "\n",
    "def check_number(x):\n",
    "    str1 = str(x)\n",
    "    tmp = list(str(x))\n",
    "    tmp.reverse()\n",
    "    if str1 == \"\".join(tmp):\n",
    "        return True\n",
    "    else:\n",
    "        return False\n",
    "    \n",
    "check_number(1112)\n",
    "check_number(1111)\n",
    "\n",
    "def calcul_number(x): # x가 1이면 2자리 수끼리 곱, # 2이면 3자리수 곱\n",
    "    result = []\n",
    "    for i in range(10**x,10**(x+1)):\n",
    "        for j in range(10**x,10**(x+1)):\n",
    "            if check_number(i*j):\n",
    "                result.append(i*j)\n",
    "    result  \n",
    "    print(max(result))\n",
    "        \n",
    "calcul_number(2)"
   ]
  },
  {
   "cell_type": "code",
   "execution_count": 11,
   "metadata": {},
   "outputs": [
    {
     "name": "stdout",
     "output_type": "stream",
     "text": [
      "[16, 9, 5, 7, 11, 13, 17, 19]\n"
     ]
    }
   ],
   "source": [
    "## 문제 7.\n",
    "## 1부터 10사이의 어떤 수로도 나누어 떨어지는 가장 작은 수는 2520\n",
    "## 1부터 20사이의 어떤 수로도 나누어 떨어지는 가장 작은 수는 얼마?\n",
    "\n",
    "def prime(x):\n",
    "    primeList = list()\n",
    "    for i in range(2,x+1):\n",
    "        divcount = 0\n",
    "        for j in range(1,i):\n",
    "            if i % j == 0:\n",
    "                divcount = divcount + 1\n",
    "            else:\n",
    "                pass\n",
    "        if divcount == 1:\n",
    "            primeList.append(i)\n",
    "    return primeList\n",
    "# print(prime(10))\n",
    "# print(len(prime(13)))\n",
    "\n",
    "# print(prime(10))\n",
    "# print(prime(10)[1])\n",
    "\n",
    "# print(len(prime(10)))\n",
    "\n",
    "nmList = list()\n",
    "def findMP(x):\n",
    "    for i in range(0,len(prime(x))):\n",
    "        for j in range(len(prime(x))+1):\n",
    "            if prime(x)[i]**j > x :\n",
    "                nmList.append(prime(x)[i]**(j-1))\n",
    "                break\n",
    "            else:\n",
    "                pass\n",
    "    return nmList\n",
    "print(findMP(20))\n",
    "\n",
    "def fResult(x):\n",
    "    result=1\n",
    "    for i in range(len(findMP(x))):\n",
    "        result=result*findMP(x)[i]\n",
    "    return result\n",
    "# fResult(10)\n",
    "\n"
   ]
  },
  {
   "cell_type": "code",
   "execution_count": null,
   "metadata": {},
   "outputs": [],
   "source": [
    "#구간중 소수를 추출\n",
    "#소수들을 리스트에 저장\n",
    "#정해진 구간의 최대값 보다 작은 소수의 배수를 찾는다\n",
    "#소수의 최대 배수를 찾았으면 그 값을 리스트에 저장\n",
    "#구간에서 뽑아낸 소수들의 목록을 다 활용했다면\n",
    "#저장된 리스트를 곱한다.b"
   ]
  },
  {
   "cell_type": "code",
   "execution_count": 58,
   "metadata": {},
   "outputs": [
    {
     "name": "stdout",
     "output_type": "stream",
     "text": [
      "[9, 5, 7]\n"
     ]
    }
   ],
   "source": [
    "L1=[2,3,5,7]\n",
    "L2=[1,2,3,4,5,6,7,8,9,10]\n",
    "MP=list()\n",
    "for i in range(len(L1)):\n",
    "    for j in range(len(L1)):\n",
    "        if L1[i]**j > len(L2):\n",
    "            MP.append(L1[i]**(j-1))\n",
    "            break\n",
    "        else:\n",
    "            pass\n",
    "print(MP)"
   ]
  },
  {
   "cell_type": "code",
   "execution_count": 2,
   "metadata": {},
   "outputs": [
    {
     "name": "stdout",
     "output_type": "stream",
     "text": [
      "홍길동,18,7,19\n",
      "최길동,58,70,15\n",
      "아이유,92,94,99\n",
      "김연아,17,20,22\n",
      "이선희,76,25,14\n",
      "강감찬,90,19,71\n",
      "신사임당,31,23,16최길동,58,70,15\n"
     ]
    }
   ],
   "source": [
    "#문제 8. student_score.txt 파일을 불러와서 학생성적에 대한 평균을 구하고 성적순으로 축력\n",
    "#        출력형식 이름, 성적평균, 등수\n",
    "\n",
    "file1 = open(\"student_score.txt\",\"r\")\n",
    "file2 = open(\"backup.txt\",\"w\" )\n",
    "\n",
    "raw_list = []\n",
    "\n",
    "while True:                   \n",
    "    line = file1.readline()\n",
    "    print(line, end=\"\")       \n",
    "    raw_list.append(line.rstrip())\n",
    "    if not line:\n",
    "        break\n",
    "    file2.write(line)\n",
    "#print(raw_list)   \n",
    "\n",
    "file1.close()\n",
    "file2.close()\n",
    "\n",
    "print(raw_list[1])\n",
    "\n"
   ]
  },
  {
   "cell_type": "code",
   "execution_count": 2,
   "metadata": {
    "collapsed": true
   },
   "outputs": [
    {
     "ename": "SyntaxError",
     "evalue": "unexpected EOF while parsing (student_score.py, line 17)",
     "output_type": "error",
     "traceback": [
      "Traceback \u001b[1;36m(most recent call last)\u001b[0m:\n",
      "  File \u001b[0;32m\"C:\\Users\\WON\\Anaconda3\\envs\\cpu_evn\\lib\\site-packages\\IPython\\core\\interactiveshell.py\"\u001b[0m, line \u001b[0;32m3326\u001b[0m, in \u001b[0;35mrun_code\u001b[0m\n    exec(code_obj, self.user_global_ns, self.user_ns)\n",
      "\u001b[1;36m  File \u001b[1;32m\"<ipython-input-2-e6e76e2c6787>\"\u001b[1;36m, line \u001b[1;32m8\u001b[1;36m, in \u001b[1;35m<module>\u001b[1;36m\u001b[0m\n\u001b[1;33m    import student_score as ss\u001b[0m\n",
      "\u001b[1;36m  File \u001b[1;32m\"C:\\python_DA\\python_Lib\\student_score.py\"\u001b[1;36m, line \u001b[1;32m17\u001b[0m\n\u001b[1;33m    \u001b[0m\n\u001b[1;37m    ^\u001b[0m\n\u001b[1;31mSyntaxError\u001b[0m\u001b[1;31m:\u001b[0m unexpected EOF while parsing\n"
     ]
    }
   ],
   "source": [
    "########################################강사님 풀이##############################################\n",
    "#문제 8. student_score.txt 파일을 불러와서 학생성적에 대한 평균을 구하고 성적순으로 축력\n",
    "#        출력형식 이름, 성적평균, 등수\n",
    "\n",
    "##모듈은 불러올때 한번만 불러옴. 모듈을 수정하고 다시 불러오고 싶다면\n",
    "##다시 재시작 해야함\n",
    "\n",
    "import student_score as ss\n",
    "import operator #정렬을 편하게 하기 위해서\n",
    "\n",
    "result = list() #학생개체들이 모여있는 리스트\n",
    "studentFile = open(\"student_score.txt\",\"r\")\n",
    "\n",
    "while True:\n",
    "    stu = (studentFile.readline()).replace(\"\\n\",\"\")\n",
    "    if stu == \"\":\n",
    "        break;\n",
    "    stu_list = stu.split(\",\")  # \",\"를 기준으로 문자열을 분리해서 리스트로 리턴\n",
    "                               # [ \"홍길동\", \"18\", \"7\", \"19\" ]\n",
    "    print(stu_list)\n",
    "    result.append(ss.Student(stu_list[0],stu_list[1],stu_list[2],stu_list[3]))\n",
    "\n",
    "## 정상적으로 데이터가 생성되었는지 확인\n",
    "# for s in result:\n",
    "#     s.print_student()\n",
    "    \n",
    "####### 정렬을 해보자 #############   attrgetter() : property의 값을 추출\n",
    "sorted_result = sorted(result,key=operator.attrgetter(\"sAvg\"))\n",
    "print()\n",
    "## 정렬된 결과를 확인해 보자\n",
    "# for i in result:\n",
    "#     s.print_student()"
   ]
  },
  {
   "cell_type": "code",
   "execution_count": 88,
   "metadata": {},
   "outputs": [
    {
     "name": "stdout",
     "output_type": "stream",
     "text": [
      "\"audi\"\n"
     ]
    },
    {
     "data": {
      "text/plain": [
       "str"
      ]
     },
     "execution_count": 88,
     "metadata": {},
     "output_type": "execute_result"
    }
   ],
   "source": [
    "# MPG문제\n",
    "import mpg as md\n",
    "import operator #정렬을 편하게 하기 위해서\n",
    "\n",
    "result = list() \n",
    "mpgFile = open(\"mpg1.txt\",\"r\",encoding=\"UTF-8\")\n",
    "\n",
    "while True:\n",
    "    mpg = (mpgFile.readline()).replace(\"\\n\",\"\")\n",
    "    mpg_list = mpg.split(\",\")\n",
    "    if mpg == \"\":\n",
    "        break;\n",
    "    #print(mpg_list)\n",
    "    result.append(md.Car(mpg_list[0],mpg_list[1],\n",
    "                         mpg_list[2],mpg_list[3],\n",
    "                         mpg_list[4],mpg_list[5],\n",
    "                         mpg_list[6],mpg_list[7],\n",
    "                         mpg_list[8],mpg_list[9],\n",
    "                         mpg_list[10]))\n",
    "\n",
    "# for s in result:\n",
    "#     s.test_print()\n",
    "    \n",
    "print(result[1].cManu)\n",
    "type(result[1].cManu)"
   ]
  },
  {
   "cell_type": "code",
   "execution_count": 2,
   "metadata": {},
   "outputs": [
    {
     "data": {
      "text/plain": [
       "234"
      ]
     },
     "execution_count": 2,
     "metadata": {},
     "output_type": "execute_result"
    }
   ],
   "source": [
    "len(result)"
   ]
  },
  {
   "cell_type": "code",
   "execution_count": 12,
   "metadata": {},
   "outputs": [
    {
     "name": "stdout",
     "output_type": "stream",
     "text": [
      "배기량이 4이하인 자동차의 평균연비 : 25.96319018404908, 배기량이 5이상인 자동차의 평균연비 : 18.07894736842105\n"
     ]
    }
   ],
   "source": [
    "# 1. displ(배기량)이 4 이하인 자동차와 5 이상인 자동차 중 어떤 자동차의 hwy(고속도로 연비)가 \n",
    "# 평균적으로 더 높은지 확인하세요.\n",
    "def q1():\n",
    "    hwy_rate1 = list()\n",
    "    hwy_rate2 = list()\n",
    "    for i in range(len(result)):\n",
    "        if result[i].cDispl <= 4:\n",
    "            hwy_rate1.append(result[i].cHwy)\n",
    "        elif result[i].cDispl >= 5:\n",
    "            hwy_rate2.append(result[i].cHwy)\n",
    "        else:\n",
    "            pass\n",
    "    a=sum(hwy_rate1)/len(hwy_rate1)\n",
    "    b=sum(hwy_rate2)/len(hwy_rate2)\n",
    "    print(\"배기량이 4이하인 자동차의 평균연비 : {}, 배기량이 5이상인 자동차의 평균연비 : {}\".format(a,b))\n",
    "    \n",
    "q1()"
   ]
  },
  {
   "cell_type": "code",
   "execution_count": 52,
   "metadata": {},
   "outputs": [
    {
     "name": "stdout",
     "output_type": "stream",
     "text": [
      "audi의 cty : 17.61111111111111, yotota의 cty : 18.529411764705884\n"
     ]
    }
   ],
   "source": [
    "# 2. 자동차 제조 회사에 따라 도시 연비가 다른지 알아보려고 한다. \"audi\"와 \"toyota\" 중 \n",
    "# 어느 manufacturer(제조회사)의 cty(도시 연비)가 평균적으로 더 높은지 확인하세요.\n",
    "ctyList1 = list()\n",
    "ctyList2 = list()\n",
    "for i in range(len(result)):\n",
    "    if result[i].cManu == '\"audi\"':\n",
    "        ctyList1.append(result[i].cCty)\n",
    "for i in range(len(result)):    \n",
    "    if result[i].cManu == '\"toyota\"':\n",
    "        ctyList2.append(result[i].cCty)\n",
    "a = sum(ctyList1)/len(ctyList1)\n",
    "b = sum(ctyList2)/len(ctyList2)\n",
    "\n",
    "print(\"audi의 cty : {}, yotota의 cty : {}\".format(a,b))\n",
    "\n",
    "# print(sum(ctyList1))\n",
    "# print(len(ctyList1))\n",
    "# print(sum(ctyList2))\n",
    "# print(len(ctyList2))"
   ]
  },
  {
   "cell_type": "code",
   "execution_count": 74,
   "metadata": {},
   "outputs": [
    {
     "name": "stdout",
     "output_type": "stream",
     "text": [
      "세회사들의 고속도로 평균연비 : 22.50943396226415\n"
     ]
    }
   ],
   "source": [
    "# 3. \"chevrolet\", \"ford\", \"honda\" 자동차의 고속도로 연비 평균을 알아보려고 한다. \n",
    "# 이 회사들의 데이터를 추출한 후 hwy(고속도로 연비) 전체 평균을 구하세요.\n",
    "manuList = list()\n",
    "for i in range(len(result)):\n",
    "    if result[i].cManu in ('\"chevrolet\"', '\"ford\"', '\"honda\"'):\n",
    "        manuList.append(result[i].cHwy)\n",
    "    else:\n",
    "        pass\n",
    "a = sum(manuList)/len(manuList)\n",
    "print(\"세회사들의 고속도로 평균연비 : {}\".format(a))\n"
   ]
  },
  {
   "cell_type": "code",
   "execution_count": 91,
   "metadata": {},
   "outputs": [
    {
     "data": {
      "text/plain": [
       "[29, 29, 31, 30, 26, 26, 27, 26, 25, 28, 27, 25, 25, 25, 25, 24, 25, 23]"
      ]
     },
     "execution_count": 91,
     "metadata": {},
     "output_type": "execute_result"
    }
   ],
   "source": [
    "# 4. \"audi\"에서 생산한 자동차 중에 어떤 자동차 모델의 hwy(고속도로 연비)가 높은지 알아보려고 한다. \n",
    "# \"audi\"에서 생산한 자동차 중 hwy가 1~5위에 해당하는 자동차의 데이터를 출력하세요.\n",
    "audiModel = list()\n",
    "for i in range(len(result)):\n",
    "    if result[i].cManu == '\"audi\"':\n",
    "        audiModel.append(result[i].cHwy)\n",
    "    else:\n",
    "        pass\n",
    "audiModel\n"
   ]
  },
  {
   "cell_type": "code",
   "execution_count": 6,
   "metadata": {},
   "outputs": [
    {
     "data": {
      "text/plain": [
       "25164150"
      ]
     },
     "execution_count": 6,
     "metadata": {},
     "output_type": "execute_result"
    }
   ],
   "source": [
    "## 문제 9\n",
    "## 1부터 10까지 자연수를 각각 제곱해서 더하면\n",
    "## 1**2 + 2**2 + 3**2 + .... = 385\n",
    "## 1부터 10까지 모두 더한다음 그 결과를 제곱하면\n",
    "## (1 + 2 + 3 + 4 + ... + 10)**2 = 3025\n",
    "## 그차이는 3025 - 385 = 2640\n",
    "\n",
    "## 1~100까지는 ?\n",
    "\n",
    "def myFunc(x):\n",
    "    tmp1 = 0\n",
    "    tmp2 = 0\n",
    "    for i in range(1,x+1):\n",
    "        tmp1 = tmp1 + i**2\n",
    "    for i in range(1,x+1):\n",
    "        tmp2 = tmp2 + i\n",
    "    tmp2 = tmp2**2\n",
    "    result = tmp2-tmp1\n",
    "    return result\n",
    "myFunc(100)"
   ]
  },
  {
   "cell_type": "code",
   "execution_count": 5,
   "metadata": {},
   "outputs": [
    {
     "data": {
      "text/plain": [
       "4"
      ]
     },
     "execution_count": 5,
     "metadata": {},
     "output_type": "execute_result"
    }
   ],
   "source": [
    "## 문제 10. \n",
    "##소수를 크기순으로 나열하면, 2,3,5,7,11,13,17,....\n",
    "##이때 10,001번째 소수는 얼마일까요?\n",
    "\n",
    "def primeResult(x):\n",
    "    isPrime = 0\n",
    "    while \n",
    "    for i in range(2,x):\n",
    "        divcount = 0\n",
    "        for j in range(1,i):\n",
    "            if i% j == 0:\n",
    "                divcount = divcount + 1\n",
    "            else:\n",
    "                pass\n",
    "        if divcount == 1:\n",
    "            isPrime = isPrime + 1\n",
    "        else:\n",
    "            pass\n",
    "    if isprime == 10001:\n",
    "        return x\n",
    "    \n",
    "len(primeResult(10))\n",
    "\n",
    "# def findPI(x):\n",
    "#     for i in range(1,len(primeResult(x))):\n",
    "#         if len(primeResult(x)) == x:\n",
    "#             result = primeResult(x)[-1]\n",
    "#             break\n",
    "#             return result\n",
    "        \n",
    "# findPI(4)\n",
    "\n",
    "# while x < 10:\n",
    "#     primeIndex = list()\n",
    "#     for i in range(2,x):\n",
    "#         divcount = 0\n",
    "#         for j in range(1,i):\n",
    "#             if i% j == 0:\n",
    "#                 divcount = divcount + 1\n",
    "#             else:\n",
    "#                 pass\n",
    "#         if divcount == 1:\n",
    "#             primeIndex.append(i)\n",
    "#         else:\n",
    "#             pass\n",
    "#     return primeIndex"
   ]
  },
  {
   "cell_type": "code",
   "execution_count": 75,
   "metadata": {},
   "outputs": [
    {
     "name": "stdout",
     "output_type": "stream",
     "text": [
      "200 375 425\n",
      "Wall time: 142 ms\n"
     ]
    }
   ],
   "source": [
    "%%time\n",
    "## 문제 11.\n",
    "## 피타고라스 정리\n",
    "## 3개의 자연수 a,b,c\n",
    "## a**2 + b**2 = c**2 ( 3,4,5 )\n",
    "## 이런 특징을 가지는 수에 대해서 a + b + c = 1000인 수는 1개만 존재 \n",
    "## 이때 a * b * c? (단 a<b<c)\n",
    "def findP(x):\n",
    "    for a in range(1,333):\n",
    "        for b in range(2,400):\n",
    "            c = x - a - b\n",
    "            if a**2 + b**2 == c**2:\n",
    "                if a + b + c == x:\n",
    "                    print(a,b,c)\n",
    "\n",
    "findP(1000)"
   ]
  },
  {
   "cell_type": "code",
   "execution_count": 2,
   "metadata": {},
   "outputs": [
    {
     "data": {
      "text/plain": [
       "4"
      ]
     },
     "execution_count": 2,
     "metadata": {},
     "output_type": "execute_result"
    }
   ],
   "source": [
    "# 문제 12.\n",
    "# 양의 정수 n에 대해서, 다음과 같은 계산과정을 반복합니다.\n",
    "\n",
    "# n이 짝수일 경우 n -> n / 2\n",
    "# n이 홀수일 경우 n -> (3 * n) + 1\n",
    "\n",
    "# 13이라는 정수 n에 대해서 위의 규칙을 적용해 보면?\n",
    "# 13 -> 40 -> 20 -> 10 -> 5 -> 16 -> 8 -> 4 -> 2 -> 1\n",
    "\n",
    "# 어떤 수로 시작해도 결국은 1로 끝나게 된다\n",
    "\n",
    "# 1,000,000 이하의 수로 시작했을 때 1까지 도달하는데 가장 긴 과정을 거치는 수는 얼마인가요?\n",
    "# 답: 837799, 525회\n"
   ]
  },
  {
   "cell_type": "code",
   "execution_count": 3,
   "metadata": {},
   "outputs": [
    {
     "name": "stdout",
     "output_type": "stream",
     "text": [
      "[2, 3, 4, 5, 6, 7, 8, 9]\n"
     ]
    }
   ],
   "source": [
    "# 문제 13.\n",
    "# 다음과 같은 특성을 가지는 숫자의 개수를 구하는 프로그램을 작성해 보자\n",
    "# 두개의 숫자(x,y)를 이용합니다. 양의 정수 1, 100\n",
    "# x초과 , y미만인 숫자중 각자리의 숫자를 모두 더한 값이 5의 배수가 되는 숫자를 구하고 해당숫자가\n",
    "# 몇개인지 출력!\n",
    "# 1초과 100미만에는 => 19개\n",
    "# 5초과 500미만 => 98\n",
    "# 100초과 10000미만이 주어졌을땐?\n",
    "# a = 1의 자리수를 구할땐? 받은 값을 10으로 나눈뒤 나머지를 구한다\n",
    "# b = 1의 자리수가 아닌 수의 값을 구할땐? 받은 값을 10으로나눈 몫을 구한다\n",
    "# \n",
    "\n",
    "one = 0\n",
    "other = 0\n",
    "while len(n) > 1:\n",
    "    if len(n) == 1:\n",
    "        one = n\n",
    "    elif len(n) != :\n",
    "        other = n % 10 #나누고 나머지 저장\n",
    "    \n",
    "    "
   ]
  },
  {
   "cell_type": "code",
   "execution_count": 9,
   "metadata": {},
   "outputs": [
    {
     "name": "stdout",
     "output_type": "stream",
     "text": [
      "98\n"
     ]
    }
   ],
   "source": [
    "# 문제 13. 강사님 풀이 문자열로 처리해보자\n",
    "def exercise13(x,y):\n",
    "    nCount = 0\n",
    "    for i in range(x+1,y):\n",
    "        k = str(i) # 숫자를 문자열로 변환 예) i => 414\n",
    "        intSum = 0 #                        k => \"414\"\n",
    "        for j in range(len(k)):\n",
    "            intSum += int(k[j]) # 누적\n",
    "        if intSum % 5 == 0:\n",
    "            nCount += 1\n",
    "    return nCount\n",
    "print(exercise13(5,500))\n"
   ]
  },
  {
   "cell_type": "code",
   "execution_count": 111,
   "metadata": {},
   "outputs": [
    {
     "data": {
      "text/plain": [
       "'9'"
      ]
     },
     "execution_count": 111,
     "metadata": {},
     "output_type": "execute_result"
    }
   ],
   "source": [
    "# 문제 14.\n",
    "# 6자리 이상 9자리 미만의 수를 하나 이용\n",
    "# 예) 234567 6522345\n",
    "# 수의 중앙을 기준으로 두개의 수로 분리\n",
    "# (234,567)  (652,345)\n",
    "# 두개의 수로 분리한 다음 큰수를 선택\n",
    "# 이 작업을 계속 진행 더이상 나눌수 없을 때까지 진행\n",
    "# 6522345 => (652,345) => 625 => (6,2) => 6 종료\n",
    "\n",
    "def exercise14(x):\n",
    "    k = str(x)\n",
    "    while len(k)>1:\n",
    "        if len(k) % 2 == 0:\n",
    "            left_value=int(k[:len(k)//2]) # // 몫만 뽑아온다\n",
    "            right_value=int(k[len(k)//2:])\n",
    "\n",
    "        else:\n",
    "            left_value=int(k[:len(k)//2])\n",
    "            right_value=int(k[(len(k)//2)+1:])\n",
    "\n",
    "        if left_value > right_value:\n",
    "            k = str(left_value)   #시작이 str이니까 다시 데이터 타입 변환\n",
    "        else:\n",
    "            k = str(right_value)\n",
    "    return k\n",
    "\n",
    "exercise14(67842199345325)\n"
   ]
  },
  {
   "cell_type": "code",
   "execution_count": 103,
   "metadata": {
    "collapsed": true
   },
   "outputs": [
    {
     "ename": "TypeError",
     "evalue": "'builtin_function_or_method' object is not subscriptable",
     "output_type": "error",
     "traceback": [
      "\u001b[1;31m---------------------------------------------------------------------------\u001b[0m",
      "\u001b[1;31mTypeError\u001b[0m                                 Traceback (most recent call last)",
      "\u001b[1;32m<ipython-input-103-68b3f64fe0c1>\u001b[0m in \u001b[0;36m<module>\u001b[1;34m\u001b[0m\n\u001b[0;32m      6\u001b[0m \u001b[0mx\u001b[0m \u001b[1;33m=\u001b[0m \u001b[1;36m2\u001b[0m\u001b[1;33m**\u001b[0m\u001b[1;36m1000\u001b[0m\u001b[1;33m\u001b[0m\u001b[1;33m\u001b[0m\u001b[0m\n\u001b[0;32m      7\u001b[0m \u001b[0mk\u001b[0m \u001b[1;33m=\u001b[0m \u001b[0mstr\u001b[0m\u001b[1;33m(\u001b[0m\u001b[0mx\u001b[0m\u001b[1;33m)\u001b[0m\u001b[1;33m\u001b[0m\u001b[1;33m\u001b[0m\u001b[0m\n\u001b[1;32m----> 8\u001b[1;33m \u001b[0msum\u001b[0m\u001b[1;33m[\u001b[0m\u001b[1;33m(\u001b[0m\u001b[0mint\u001b[0m\u001b[1;33m(\u001b[0m\u001b[0mi\u001b[0m\u001b[1;33m)\u001b[0m \u001b[1;32mfor\u001b[0m \u001b[0mi\u001b[0m \u001b[1;32min\u001b[0m \u001b[0mk\u001b[0m\u001b[1;33m)\u001b[0m\u001b[1;33m]\u001b[0m\u001b[1;33m\u001b[0m\u001b[1;33m\u001b[0m\u001b[0m\n\u001b[0m\u001b[0;32m      9\u001b[0m \u001b[1;33m\u001b[0m\u001b[0m\n\u001b[0;32m     10\u001b[0m \u001b[1;33m\u001b[0m\u001b[0m\n",
      "\u001b[1;31mTypeError\u001b[0m: 'builtin_function_or_method' object is not subscriptable"
     ]
    }
   ],
   "source": [
    "## 문제 15.\n",
    "## 2**15 = 32768 각자리수의 합은 => 3+2+7+6+8 => 26\n",
    "\n",
    "## 2**1000 = ? 각 자리수의 합은?\n",
    "\n",
    "x = 2**1000\n",
    "\n",
    "\n"
   ]
  },
  {
   "cell_type": "code",
   "execution_count": 63,
   "metadata": {
    "collapsed": true
   },
   "outputs": [
    {
     "name": "stdout",
     "output_type": "stream",
     "text": [
      "받은 제품정보를 하나씩 쪼갠다\n",
      "['A7', 'B5', 'C4', 'A1', 'A8', 'B9', 'B3', 'A5', 'A8', 'B9', 'B1', 'C7', 'C1', 'A1', 'B3', 'C7', 'B9', 'B3', 'A7', 'B8', 'A1', 'C9', 'A8', 'C9', 'C7', 'B9', 'C3', 'A5', 'A8', 'B3', 'C9', 'C8', 'A7', 'A8', 'B9', 'C9', 'C7']\n",
      "\n",
      "불량품을 제거한나머지 제품정보만 출력\n",
      "['A7', 'A8', 'B9', 'A8', 'B9', 'C7', 'C7', 'B9', 'A7', 'B8', 'C9', 'A8', 'C9', 'C7', 'B9', 'A8', 'C9', 'C8', 'A7', 'A8', 'B9', 'C9', 'C7']\n",
      "\n",
      "['A', 'A', 'B', 'A', 'B', 'C', 'C', 'B', 'A', 'B', 'C', 'A', 'C', 'C', 'B', 'A', 'C', 'C', 'A', 'A', 'B', 'C', 'C']\n",
      "\n",
      "AABABCCBABCACCBACCAABCC\n",
      "\n",
      "3\n"
     ]
    }
   ],
   "source": [
    "## 문제 16.(공장에서 부품을 생산해요!)\n",
    "## 각 부품의 생산정보가 문자열로 제공됨\n",
    "## 예) 부품생산정보 : A7B3A9C6B6A3B9C7A3A8B8A1C9\n",
    "## 문자는 부품 이름 (A,B,C 중 1개)\n",
    "## 숫자는 부품의 품질 (1부터 9까지) 숫자가 높을 수록 품질이 우수\n",
    "\n",
    "## 생산정보에서 품질이 7이상인 부품만 추출(7미만은 불량품)\n",
    "## 결과 : A7A9B9C7A8B8C9...\n",
    "## 만들어진 결과를 이용해서 부품을 조립\n",
    "## ABC가 연속적으로 있으면 제품으로 조립\n",
    "## 주어진 문자열을 이용해서 총 몇개의 제품을 조립할 수 있나요?\n",
    "## x개 \n",
    "\n",
    "## Data : A7B5C4A1A8B9B3A5A8B9B1C7C1A1B3C7B9B3A7B8A1C9A8C9C7B9C3A5A8B3C9C8A7A8B9C9C7\n",
    "\n",
    "str_data = \"A7B5C4A1A8B9B3A5A8B9B1C7C1A1B3C7B9B3A7B8A1C9A8C9C7B9C3A5A8B3C9C8A7A8B9C9C7\"\n",
    "\n",
    "print(\"받은 제품정보를 하나씩 쪼갠다\")\n",
    "data_list = list()\n",
    "for i in range(0,len(str_data),2):\n",
    "    data_list.append(str_data[i:i+2])\n",
    "print(data_list)\n",
    "print()\n",
    "\n",
    "print(\"불량품을 제거한나머지 제품정보만 출력\")\n",
    "good_product_list = list()\n",
    "for i in range(0,len(data_list)):\n",
    "    if int(data_list[i][1]) >= 7:\n",
    "        good_product_list.append(data_list[i])\n",
    "print(good_product_list)\n",
    "\n",
    "print()\n",
    "\n",
    "x = []\n",
    "for i in range(0,len(good_product_list)):\n",
    "    x += (good_product_list[i][0])\n",
    "print(x)\n",
    "x = ''.join(x)\n",
    "print()\n",
    "print(x)\n",
    "\n",
    "nCount = 0\n",
    "for i in range(0,len(x)):\n",
    "    if x[i:i+3] == 'ABC':\n",
    "        nCount = nCount +1\n",
    "    else:\n",
    "        pass\n",
    "print()\n",
    "print(nCount)"
   ]
  },
  {
   "cell_type": "code",
   "execution_count": 98,
   "metadata": {
    "collapsed": true
   },
   "outputs": [
    {
     "name": "stdout",
     "output_type": "stream",
     "text": [
      "ABCAABBAABBCCABCBBABACACCBCAABCCAABCC\n",
      "7541893589171137937819897935839878997\n",
      "['A', 'A', 'B', 'A', 'B', 'C', 'C', 'B', 'A', 'B', 'C', 'A', 'C', 'C', 'B', 'A', 'C', 'C', 'A', 'A', 'B', 'C', 'C']\n",
      "AABABCCBABCACCBACCAABCC\n",
      "3\n"
     ]
    }
   ],
   "source": [
    "d = \"A7B5C4A1A8B9B3A5A8B9B1C7C1A1B3C7B9B3A7B8A1C9A8C9C7B9C3A5A8B3C9C8A7A8B9C9C7\"\n",
    "\n",
    "a = d[0::2]\n",
    "n = d[1::2]\n",
    "\n",
    "print(a)\n",
    "print(n)\n",
    "\n",
    "good_p_list = list()\n",
    "for i in range(0,len(n)):\n",
    "    if int(n[i]) >= 7:\n",
    "        good_p_list.append(a[i])\n",
    "print(good_p_list)\n",
    "value = ''.join(good_p_list)\n",
    "print(value)\n",
    "\n",
    "print(value.count('ABC'))\n",
    "\n",
    "# nCount = 0\n",
    "# for i in range(0,len(value)):\n",
    "#     if value[i:i+3] == 'ABC':\n",
    "#         nCount = nCount +1\n",
    "#     else:\n",
    "#         pass\n",
    "# print()\n",
    "# print(nCount)"
   ]
  },
  {
   "cell_type": "code",
   "execution_count": 85,
   "metadata": {},
   "outputs": [
    {
     "name": "stdout",
     "output_type": "stream",
     "text": [
      "['A7', 'A8', 'B9', 'A8', 'B9', 'C7', 'C7', 'B9', 'A7', 'B8', 'C9', 'A8', 'C9', 'C7', 'B9', 'A8', 'C9', 'C8', 'A7', 'A8', 'B9', 'C9', 'C7']\n",
      "A7A8B9A8B9C7C7B9A7B8C9A8C9C7B9A8C9C8A7A8B9C9C7\n",
      "['A8B9C7', 'A7B8C9', 'A8B9C9']\n"
     ]
    }
   ],
   "source": [
    "## 패턴매칭 문제(정규식 이용)\n",
    "import re       ## 정규식을 이용하기 위한 모듈을 포함\n",
    "\n",
    "itemSequence = \"A7B5C4A1A8B9B3A5A8B9B1C7C1A1B3C7B9B3A7B8A1C9A8C9C7B9C3A5A8B3C9C8A7A8B9C9C7\"\n",
    "# 정규식을 하나 만들어요\n",
    "regex = re.compile(\".[789]\") # . 의 의미 => 앞의 글자는 상관없이 뒤에 7,8,9가 나오면 찾아줘 \n",
    "result = regex.findall(itemSequence)\n",
    "print(result)\n",
    "valid_str = ''.join(result)\n",
    "print(valid_str)\n",
    "\n",
    "regex = re.compile(\"A.B.C.\") # \n",
    "result = regex.findall(valid_str)\n",
    "print(result)"
   ]
  },
  {
   "cell_type": "code",
   "execution_count": 15,
   "metadata": {},
   "outputs": [
    {
     "name": "stdout",
     "output_type": "stream",
     "text": [
      "93326215443944152681699238856266700490715968264381621468592963895217599993229915608941463976156518286253697920827223758251185210916864000000000000000000000000\n",
      "648\n"
     ]
    }
   ],
   "source": [
    "## 문제 17.\n",
    "## 10! = 1*2*3*4*5*6*7*8*9*10 => 3628800\n",
    "## 각자리수의 합 => 3+6+2+8+8+0+0 = 27\n",
    "\n",
    "## 100!을 계산해서 각 자리수의 합을 구해보자\n",
    "x=100\n",
    "result = 1\n",
    "for i in range(1,x+1):\n",
    "    result = result*i\n",
    "print(result)\n",
    "\n",
    "result_str = str(result)\n",
    "\n",
    "fResult=0\n",
    "for i in range(len(result_str)):\n",
    "    fResult += (int(result_str[i]))\n",
    "print(fResult)"
   ]
  },
  {
   "cell_type": "code",
   "execution_count": 144,
   "metadata": {
    "collapsed": true
   },
   "outputs": [
    {
     "name": "stdout",
     "output_type": "stream",
     "text": [
      "[1, 3, 4, 5, 7, 9, 2, 3, 4, 7]\n",
      "[3, 1, 5, 4, 7, 9, 2, 3, 4, 7]\n",
      "[3, 5, 1, 7, 4, 9, 2, 3, 4, 7]\n",
      "[3, 5, 7, 1, 9, 4, 2, 3, 4, 7]\n",
      "[3, 5, 7, 9, 1, 2, 4, 3, 4, 7]\n",
      "[3, 5, 7, 9, 2, 1, 3, 4, 4, 7]\n",
      "[3, 5, 7, 9, 2, 3, 1, 4, 4, 7]\n",
      "[3, 5, 7, 9, 2, 3, 4, 1, 7, 4]\n",
      "21\n"
     ]
    }
   ],
   "source": [
    "## 문제 18.\n",
    "## 최소 10개 최대 20개의 숫자로 구성된 숫자 목록을 이용\n",
    "## 예)  x = \"1,3,4,5,7,9,2,3,4,7\"\n",
    "## 숫자목록을 재배치하려고한다.\n",
    "## 1. 앞에서 4개를 선택\n",
    "## [1,3,4,5],7,9,2,3,4,7 => 합 13\n",
    "## [3,1,5,4],7,9,2,3,4,7\n",
    "\n",
    "## 2. 한칸 전진해서 1의 과정을 반복\n",
    "## 3,[1,5,4,7],9,2,3,4,7 => 합 17\n",
    "## 3,[5,1,7,4],9,2,3,4,7\n",
    "\n",
    "## 3,5,[1,7,4,9],2,3,4,7 => 합 21\n",
    "## 3,5,[7,1,9,4],2,3,4,7\n",
    "\n",
    "## ..............[......] => 합 ?\n",
    "\n",
    "## 3. 이때 가장 큰 합은 얼마인가요?\n",
    "##    그때 4개의 숫자?\n",
    "\n",
    "x = \"1,3,4,5,7,9,2,3,4,7\"\n",
    "\n",
    "# x = \"10,15,3,5,9,5,7,8,9,15,44,54,15,67,32,25,48,98,44,56\"\n",
    "\n",
    "x_list = list(x)\n",
    "data = x_list[0::2]\n",
    "data\n",
    "\n",
    "nm_list = list()\n",
    "for i in range(0,len(data)):\n",
    "    nm_list.append(int(data[i]))\n",
    "print(nm_list)\n",
    "\n",
    "sumValuelist = list()\n",
    "for i in range(len(nm_list)-3):\n",
    "    sumValue = sum(nm_list[i:i+4])\n",
    "    sumValuelist.append(sumValue)\n",
    "    nm_list[i],nm_list[i+1],nm_list[i+2],nm_list[i+3] = nm_list[i+1],nm_list[i],nm_list[i+3],nm_list[i+2]\n",
    "    print(nm_list)\n",
    "print(max(sumValuelist)) "
   ]
  },
  {
   "cell_type": "code",
   "execution_count": 2,
   "metadata": {
    "collapsed": true
   },
   "outputs": [
    {
     "name": "stdout",
     "output_type": "stream",
     "text": [
      "['10', '15', '3', '5', '9', '5', '7', '8', '9', '15', '44', '54', '15', '67', '32', '25', '48', '98', '44', '56']\n",
      "52\n",
      "20\n",
      "['15', '10', '5', '3', '9', '5', '7', '8', '9', '15', '44', '54', '15', '67', '32', '25', '48', '98', '44', '56']\n",
      "['15', '5', '10', '9', '3', '5', '7', '8', '9', '15', '44', '54', '15', '67', '32', '25', '48', '98', '44', '56']\n",
      "['15', '5', '9', '10', '5', '3', '7', '8', '9', '15', '44', '54', '15', '67', '32', '25', '48', '98', '44', '56']\n",
      "['15', '5', '9', '5', '10', '7', '3', '8', '9', '15', '44', '54', '15', '67', '32', '25', '48', '98', '44', '56']\n",
      "['15', '5', '9', '5', '7', '10', '8', '3', '9', '15', '44', '54', '15', '67', '32', '25', '48', '98', '44', '56']\n",
      "['15', '5', '9', '5', '7', '8', '10', '9', '3', '15', '44', '54', '15', '67', '32', '25', '48', '98', '44', '56']\n",
      "['15', '5', '9', '5', '7', '8', '9', '10', '15', '3', '44', '54', '15', '67', '32', '25', '48', '98', '44', '56']\n",
      "['15', '5', '9', '5', '7', '8', '9', '15', '10', '44', '3', '54', '15', '67', '32', '25', '48', '98', '44', '56']\n",
      "['15', '5', '9', '5', '7', '8', '9', '15', '44', '10', '54', '3', '15', '67', '32', '25', '48', '98', '44', '56']\n",
      "['15', '5', '9', '5', '7', '8', '9', '15', '44', '54', '10', '15', '3', '67', '32', '25', '48', '98', '44', '56']\n",
      "['15', '5', '9', '5', '7', '8', '9', '15', '44', '54', '15', '10', '67', '3', '32', '25', '48', '98', '44', '56']\n",
      "['15', '5', '9', '5', '7', '8', '9', '15', '44', '54', '15', '67', '10', '32', '3', '25', '48', '98', '44', '56']\n",
      "['15', '5', '9', '5', '7', '8', '9', '15', '44', '54', '15', '67', '32', '10', '25', '3', '48', '98', '44', '56']\n",
      "['15', '5', '9', '5', '7', '8', '9', '15', '44', '54', '15', '67', '32', '25', '10', '48', '3', '98', '44', '56']\n",
      "['15', '5', '9', '5', '7', '8', '9', '15', '44', '54', '15', '67', '32', '25', '48', '10', '98', '3', '44', '56']\n",
      "['15', '5', '9', '5', '7', '8', '9', '15', '44', '54', '15', '67', '32', '25', '48', '98', '10', '44', '3', '56']\n",
      "['15', '5', '9', '5', '7', '8', '9', '15', '44', '54', '15', '67', '32', '25', '48', '98', '44', '10', '56', '3']\n"
     ]
    }
   ],
   "source": [
    "x = \"10,15,3,5,9,5,7,8,9,15,44,54,15,67,32,25,48,98,44,56\"\n",
    "myList = x.split(\",\")\n",
    "print(myList)\n",
    "print(len(x))\n",
    "print(len(myList))\n",
    "\n",
    "myList[0:4]\n",
    "for i in range(len(myList)-3):\n",
    "    myList[i],myList[i+1],myList[i+2],myList[i+3] = myList[i+1],myList[i],myList[i+3],myList[i+2]\n",
    "    print(myList)"
   ]
  },
  {
   "cell_type": "code",
   "execution_count": null,
   "metadata": {},
   "outputs": [],
   "source": [
    "x=8\n",
    "result = 1\n",
    "for i in range(1,x+1):\n",
    "    result = result*i\n",
    "print(result)"
   ]
  },
  {
   "cell_type": "code",
   "execution_count": 47,
   "metadata": {
    "collapsed": true
   },
   "outputs": [
    {
     "ename": "IndexError",
     "evalue": "pop index out of range",
     "output_type": "error",
     "traceback": [
      "\u001b[1;31m---------------------------------------------------------------------------\u001b[0m",
      "\u001b[1;31mIndexError\u001b[0m                                Traceback (most recent call last)",
      "\u001b[1;32m<ipython-input-47-a231731c4961>\u001b[0m in \u001b[0;36m<module>\u001b[1;34m\u001b[0m\n\u001b[0;32m     34\u001b[0m     \u001b[1;32melse\u001b[0m\u001b[1;33m:\u001b[0m\u001b[1;33m\u001b[0m\u001b[1;33m\u001b[0m\u001b[0m\n\u001b[0;32m     35\u001b[0m         \u001b[1;32mpass\u001b[0m\u001b[1;33m\u001b[0m\u001b[1;33m\u001b[0m\u001b[0m\n\u001b[1;32m---> 36\u001b[1;33m     \u001b[0mvar\u001b[0m \u001b[1;33m=\u001b[0m \u001b[0mx\u001b[0m\u001b[1;33m.\u001b[0m\u001b[0mpop\u001b[0m\u001b[1;33m(\u001b[0m\u001b[0mnCount\u001b[0m\u001b[1;33m+\u001b[0m\u001b[1;36m1\u001b[0m\u001b[1;33m)\u001b[0m\u001b[1;33m\u001b[0m\u001b[1;33m\u001b[0m\u001b[0m\n\u001b[0m\u001b[0;32m     37\u001b[0m     \u001b[0mvalueList\u001b[0m\u001b[1;33m.\u001b[0m\u001b[0mappend\u001b[0m\u001b[1;33m(\u001b[0m\u001b[0mvar\u001b[0m\u001b[1;33m)\u001b[0m\u001b[1;33m\u001b[0m\u001b[1;33m\u001b[0m\u001b[0m\n\u001b[0;32m     38\u001b[0m \u001b[0mprint\u001b[0m\u001b[1;33m(\u001b[0m\u001b[0mvalueList\u001b[0m\u001b[1;33m)\u001b[0m\u001b[1;33m\u001b[0m\u001b[1;33m\u001b[0m\u001b[0m\n",
      "\u001b[1;31mIndexError\u001b[0m: pop index out of range"
     ]
    }
   ],
   "source": [
    "## 문제 19.\n",
    "## 어떤 대상을 순서대로 나열한 것을 순열이라고 한다.\n",
    "## 예를 들어서 3,2,1,4는 1,2,3,4,로 만들수 있는 순열중 하나\n",
    "## 순열을 만들때 사전식으로 순열을 만들 수 있어요\n",
    "## 0, 1, 2\n",
    "## 사전식 순열? => 012  021 102 120 201 210 \n",
    "## 그러면..... 0~9로 만들 수 있는 사전식 순열에서 1,000,000 번째 값은?\n",
    "\n",
    "# 9! => 362880 번 0...\n",
    "# 9! => 362880 번 1...\n",
    "# 8! => 40320 번 20...\n",
    "# 8! => 40320 번 21...\n",
    "# 8! => 40320 번 22...\n",
    "\n",
    "x = [0,1,2,3,4,5,6,7,8,9]\n",
    "num = 1000000\n",
    "valueList = list()\n",
    "\n",
    "def fact(x):\n",
    "    result = 1\n",
    "    for i in range(1,x+1):\n",
    "        result = result*i\n",
    "    return result\n",
    "fact(10)\n",
    "\n",
    "result = 1\n",
    "\n",
    "nCount = 0\n",
    "for i in range(len(x),0,-1):\n",
    "    if fact(i) > num:\n",
    "        while num > 0:\n",
    "            num = num - fact(i)/(i-1)\n",
    "            nCount = nCount + 1\n",
    "    else:\n",
    "        pass\n",
    "    var = x.pop(nCount)\n",
    "    valueList.append(var)\n",
    "print(valueList)"
   ]
  }
 ],
 "metadata": {
  "kernelspec": {
   "display_name": "[CPU_ENV]",
   "language": "python",
   "name": "cpu_env"
  },
  "language_info": {
   "codemirror_mode": {
    "name": "ipython",
    "version": 3
   },
   "file_extension": ".py",
   "mimetype": "text/x-python",
   "name": "python",
   "nbconvert_exporter": "python",
   "pygments_lexer": "ipython3",
   "version": "3.6.9"
  }
 },
 "nbformat": 4,
 "nbformat_minor": 2
}
