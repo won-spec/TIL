{
 "cells": [
  {
   "cell_type": "code",
   "execution_count": 24,
   "metadata": {
    "collapsed": true
   },
   "outputs": [
    {
     "name": "stdout",
     "output_type": "stream",
     "text": [
      "<class 'numpy.ndarray'>\n",
      "[1 2 3 4]\n",
      "1\n",
      "(4,)\n",
      "[[1 2 3]\n",
      " [4 5 6]]\n",
      "6\n",
      "2\n",
      "(2, 3)\n",
      "[[1. 2. 3.]\n",
      " [4. 5. 6.]]\n"
     ]
    }
   ],
   "source": [
    "## 1\n",
    "\n",
    "###array : 연속적으로 할당되고 같은 데이터 타입의 데이터를 저장할 수 있는 자료구조(배열)\n",
    "\n",
    "## 기본적으로 생성하는 방법\n",
    "\n",
    "import numpy as np\n",
    "arr = np.array([1,2,3,4])\n",
    "\n",
    "## python에서 built-in type\n",
    "## int, float, bool, str, list, tuple, dict, set\n",
    "## =>이 data type이라고 알고 있던 것들이 실제로는 class로 되어있다.\n",
    "## 그리고 type()이라는 함수로 class를 확인할 수 있다.\n",
    "print(type(arr))\n",
    "print(arr)\n",
    "## 차원의 수 파악\n",
    "print(arr.ndim)\n",
    "## 차원 및 요소의 수 파악\n",
    "print(arr.shape)\n",
    "\n",
    "## 2차원 이상의 ndarray를 만들려면 어떻게 해야하나요?\n",
    "myList =[[1,2,3],[4,5,6]]\n",
    "arr = np.array(myList)\n",
    "print(arr)\n",
    "\n",
    "## 전체요소개수 파악\n",
    "print(arr.size)\n",
    "\n",
    "## len in NumPy 1차원의 개수를 알려줌\n",
    "print(len(arr)) \n",
    "print(arr.shape)\n",
    "\n",
    "\n",
    "myList =[[1,2,3],[4,5,6]]\n",
    "arr = np.array(myList, dtype= np.float64)\n",
    "print(arr)\n",
    "\n",
    "### 다양한 생성방법\n",
    "### np.zeros(), np.ones(), np.full(), np.empty()\n",
    "### np.arange(), np.linspace()\n",
    "### random기반의 함수들 -> 4가지 rand, randn, random, randint"
   ]
  },
  {
   "cell_type": "code",
   "execution_count": 66,
   "metadata": {
    "collapsed": true
   },
   "outputs": [
    {
     "name": "stdout",
     "output_type": "stream",
     "text": [
      "[ 0  1  2  3  4  5  6  7  8  9 10 11]\n",
      "[[ 0  1  2]\n",
      " [ 3  4  5]\n",
      " [ 6  7  8]\n",
      " [ 9 10 11]]\n",
      "True\n",
      "[ True  True  True  True  True  True  True  True  True  True  True  True]\n",
      "[ 0  1  2  3  4  5  6  7  8  9 10 11]\n",
      "[ 0  1  2  3  4  5  6  7  8  9 10 11]\n",
      "[[ 0  1  2  3  4  5  6  7  8  9]\n",
      " [10 11 12 13 14 15 16 17 18 19]\n",
      " [20 21 22 23 24 25 26 27 28 29]\n",
      " [30 31 32 33 34 35 36 37 38 39]\n",
      " [40 41 42 43 44 45 46 47 48 49]\n",
      " [50 51 52 53 54 55 56 57 58 59]\n",
      " [60 61 62 63 64 65 66 67 68 69]\n",
      " [70 71 72 73 74 75 76 77 78 79]\n",
      " [80 81 82 83 84 85 86 87 88 89]\n",
      " [90 91 92 93 94 95 96 97 98 99]]\n",
      "[ 0  1  2  3  4  5  6  7  8  9 10 11 12 13 14 15 16 17 18 19 20 21 22 23\n",
      " 24 25 26 27 28 29 30 31 32 33 34 35 36 37 38 39 40 41 42 43 44 45 46 47\n",
      " 48 49 50 51 52 53 54 55 56 57 58 59 60 61 62 63 64 65 66 67 68 69 70 71\n",
      " 72 73 74 75 76 77 78 79 80 81 82 83 84 85 86 87 88 89 90 91 92 93 94 95\n",
      " 96 97 98 99]\n"
     ]
    }
   ],
   "source": [
    "## NumPy활용에 대해서 알아보자\n",
    "## shape을 조절해서 내가 원하는 형태의 ndarray를 만들어 보자\n",
    "import numpy as np\n",
    "arr = np.arange(0,12,1)\n",
    "print(arr)\n",
    "\n",
    "## 2차원으로 변경\n",
    "## reshape을 이용하면 view가 만들어짐 => 원본 데이터가 변환되는 것이 아님 => 실제데이터는 arr이 가짐\n",
    "arr1 = arr.reshape(4,3) # 4행 3열\n",
    "print(arr1)\n",
    "\n",
    "## view는 base속성이 있다. 원본데이터를 알려줌\n",
    "print(arr1.base is arr) # True 출력\n",
    "print(arr1.base == arr) # 요소  각각의 값을 비교\n",
    "print(arr1.base) # [ 0  1  2  3  4  5  6  7  8  9 10 11] 출력\n",
    "\n",
    "## shape을 변경해서 새로운 ndarray를 만들고 싶어 1차원 => n차원\n",
    "arr = np.arange(0,12,1)\n",
    "print(arr)\n",
    "\n",
    "arr1 = arr.reshape(4,3).copy() #새로운 ndarray를 생성\n",
    "\n",
    "# arr1 = arr.reshape(5,3) # 사이즈 안 맞추면 에러난다.\n",
    "arr1 = arr.reshape(-1,4) # -1집어넣으면 남은 행,열 알아서 계산 처리 해준다\n",
    "\n",
    "arr = np.arange(0,100,1).reshape(10,-1).copy()\n",
    "print(arr)\n",
    "\n",
    "#다차원 배열을 1차원으로 만들수 있어요 n차원 => 1차원\n",
    "arr1 = np.ravel(arr)\n",
    "print(arr1)\n",
    "\n",
    "#2 >ravel> 1 >reshape> 3 의 과정으로 차원 변경"
   ]
  },
  {
   "cell_type": "code",
   "execution_count": 77,
   "metadata": {
    "collapsed": true
   },
   "outputs": [
    {
     "name": "stdout",
     "output_type": "stream",
     "text": [
      "[0 1 2 3 4 5 6 7 8 9]\n",
      "[[0 1 2 3 4 5]\n",
      " [6 7 8 9 0 1]]\n",
      "[[0 1]\n",
      " [2 3]]\n",
      "[[0 1 2]\n",
      " [3 4 5]]\n"
     ]
    }
   ],
   "source": [
    "## resize()는 reshape()과 유사\n",
    "## reshape()은 형태가 맞지 않으면 변경시 에러발생\n",
    "## 하지만 resize()는 가능!\n",
    "arr = np.arange(0,10,1)\n",
    "print(arr)\n",
    "\n",
    "## resize()방식의 2가지 방법\n",
    "## 1.원본은 두고 return 받는 방식\n",
    "arr1 = np.resize(arr,(2,6)) #변경된 ndarray를 return\n",
    "print(arr1)                 #모자라는 부분은 배여르이 처음부터 다시 추가\n",
    "\n",
    "arr2 = np.resize(arr,(2,2)) #남는요소는 버리고 채운다.\n",
    "print(arr2)\n",
    "\n",
    "## 2.원본을 바꾸고 그 결과값을 사용\n",
    "arr = np.arange(0,10,1)\n",
    "result = arr.resize(2,3) #원본의 값을 바꾼다!\n",
    "print(arr)\n",
    "\n"
   ]
  },
  {
   "cell_type": "code",
   "execution_count": 109,
   "metadata": {
    "collapsed": true
   },
   "outputs": [
    {
     "name": "stdout",
     "output_type": "stream",
     "text": [
      "[[5 8 9]\n",
      " [5 0 0]]\n",
      "[[1 7 6 9 2]\n",
      " [4 5 2 4 2]]\n"
     ]
    },
    {
     "data": {
      "text/plain": [
       "array([[4, 7, 7, 9, 1],\n",
       "       [7, 0, 6, 9, 9],\n",
       "       [7, 6, 9, 1, 0],\n",
       "       [1, 8, 8, 3, 9]])"
      ]
     },
     "execution_count": 109,
     "metadata": {},
     "output_type": "execute_result"
    }
   ],
   "source": [
    "## NumPy array를 가로 혹은 세로방향으로 붙여보자\n",
    "## 2행 3열짜리 ndarray를 생성\n",
    "\n",
    "## 정수로 생성, 랜덤하게 균등분포로 0~10사이에서 추출\n",
    "## 6개를 추출해서 2차원 ndarray로 생성\n",
    "np.random.seed(1) #난수값 고정\n",
    "arr1 = np.random.randint(0,10,(2,3))\n",
    "print(arr1)\n",
    "\n",
    "## 1. 가로방향으로 붙여보자(행의 개수 확인)\n",
    "arr2 = np.random.randint(0,10,(2,5))\n",
    "print(arr2)\n",
    "\n",
    "np.hstack((arr2,arr1)) #tuple 형태로 묶어서 작성\n",
    "\n",
    "## 1. 세로방향으로 붙여보자(열의 개수 확인)\n",
    "arr1 = np.random.randint(0,10,(2,5))\n",
    "arr2 = np.random.randint(0,10,(2,5))\n",
    "np.vstack((arr1,arr2))\n",
    "\n",
    "##################################### ndarray의 생성 및 특징 #######################################\n",
    "########################### reshape(), resize() => view(효율적 메모리사용을 위해)  ##################\n",
    "############################### 여러개의 ndarray를 결합할 수 있다. ##################################\n",
    "############################## 이제 indexing과 slicing에 대해 알아보자 ##############################\n"
   ]
  },
  {
   "cell_type": "code",
   "execution_count": 131,
   "metadata": {
    "collapsed": true
   },
   "outputs": [
    {
     "name": "stdout",
     "output_type": "stream",
     "text": [
      "[0 1 2 3 4]\n",
      "2\n",
      "[1 2]\n",
      "[0 1 2 3 4]\n",
      "[1 3]\n",
      "[4]\n",
      "4\n"
     ]
    }
   ],
   "source": [
    "## NumPy array의 Indexing 과 slicing\n",
    "\n",
    "'''arr = np.arange(10,20,1)\n",
    "print(arr)'''\n",
    "\n",
    "#data만 추출해서 사용하는 for\n",
    "'''for i in arr:  \n",
    "    print(\"data : {}\".format(i))\n",
    "\n",
    "#index까지 추출하는 enumerate()\n",
    "for (idx,data) in enumerate(arr):\n",
    "    print(\"index : {}, data : {}\".format(idx,data))'''\n",
    "    \n",
    "arr = np.arange(0,5,1)\n",
    "print(arr)\n",
    "print(arr[2])   #indexing\n",
    "print(arr[1:3]) #slicing [1 2]\n",
    "print(arr[:])\n",
    "print(arr[1::2])# [1 3] 출력 idx1부터 끝까지 2칸띄고 출력\n",
    "print(arr[-1:]) # [4] 출력\n",
    "print(arr[-1])  # 4 출력"
   ]
  },
  {
   "cell_type": "code",
   "execution_count": 155,
   "metadata": {
    "collapsed": true
   },
   "outputs": [
    {
     "name": "stdout",
     "output_type": "stream",
     "text": [
      "[[ 0  1  2  3]\n",
      " [ 4  5  6  7]\n",
      " [ 8  9 10 11]]\n",
      "[ 5  6  9 10]\n"
     ]
    }
   ],
   "source": [
    "######################## indexing은 값으로 나옴, slicing은 영역으로 나옴!!!##########################\n",
    "arr = np.arange(0,12,1).reshape(3,4).copy()\n",
    "print(arr)\n",
    "# print(arr[1,2])   #indexing\n",
    "# print(arr[:,0])   # [0 4 8] 출력 \n",
    "# print(arr[:,0:1]) # 결과 값이 다름!!\n",
    "\n",
    "# [5 6 9 10] 출력?\n",
    "print(arr[1:3,1:3].ravel())"
   ]
  },
  {
   "cell_type": "code",
   "execution_count": 164,
   "metadata": {},
   "outputs": [
    {
     "name": "stdout",
     "output_type": "stream",
     "text": [
      "[5 8 9 5 0 0 1 7 6 9]\n",
      "[False  True False False  True  True False False  True False]\n",
      "[8 0 0 6]\n"
     ]
    }
   ],
   "source": [
    "## Boolean Indexing & Fancy Indexing\n",
    "## boolean indexing은 mask를 이용해서 배열의 각 요소의 선택여부를\n",
    "## True, False로 지정해서 True요소만 선택하는 방식\n",
    "\n",
    "## 정수형 난수를 추출해 보아요!\n",
    "np.random.seed(1)\n",
    "arr = np.random.randint(0,10,(10,))\n",
    "print(arr)\n",
    "\n",
    "##여기에서 짝수만 추출\n",
    "'''result = list()\n",
    "for i in arr:\n",
    "    if i % 2 == 0:\n",
    "        result.append(i)\n",
    "result = np.array(result)\n",
    "print(result)'''\n",
    "\n",
    "## 로직보다 간단한 방법을 쓰자\n",
    "## 1. 조건에 맞는 mask를 만들자\n",
    "## arr = [5 8 9 5 0 0 1 7 6 9]\n",
    "## mask : [False  True False False  True  True False False  True False]\n",
    "print(arr % 2 == 0)\n",
    "print(arr[arr % 2 == 0])"
   ]
  },
  {
   "cell_type": "code",
   "execution_count": 204,
   "metadata": {
    "collapsed": true
   },
   "outputs": [
    {
     "name": "stdout",
     "output_type": "stream",
     "text": [
      "[[ 0  1  2  3]\n",
      " [ 4  5  6  7]\n",
      " [ 8  9 10 11]]\n",
      "\n",
      "[ 5 10]\n",
      "\n",
      "[[ 5  6]\n",
      " [ 9 10]]\n",
      "\n",
      "[[ 5  6]\n",
      " [ 9 10]]\n"
     ]
    }
   ],
   "source": [
    "## Fancy indexing : 비 연속적인 구간을 들고 오고 싶을때\n",
    "## indexing을 할 때 배열을 이용해서 배열요소를 찾는 방식\n",
    "\n",
    "arr = np.arange(0,12,1).reshape(3,4).copy()\n",
    "print(arr)\n",
    "\n",
    "# print(arr[2,2])\n",
    "# print(arr[1:2,2])\n",
    "\n",
    "# print(arr[[0,2],])  # 원하는 행만 추출\n",
    "# print(arr[[0,2],2]) # 원하는 행에서 2열만 추출\n",
    "# print(arr[[0,2],1:])\n",
    "\n",
    "# print(arr[:,[0,2]])\n",
    "print()\n",
    "print(arr[[1,2],[1,2]]) #  [ 5 10] 출력?? 조심해야함\n",
    "                       #   둘다 Faccy indexing으로 뽑아내면 안됨\n",
    "print()\n",
    "# 방법 1\n",
    "print(arr[[1,2],][:,[1,2]])\n",
    "\n",
    "print()\n",
    "# 방법 2 np.ix_() :둘다 Faccy indexing으로 뽑아내게 해주는 함수\n",
    "print(arr[np.ix_([1,2],[1,2])])\n",
    "\n"
   ]
  },
  {
   "cell_type": "code",
   "execution_count": 219,
   "metadata": {
    "collapsed": true
   },
   "outputs": [
    {
     "name": "stdout",
     "output_type": "stream",
     "text": [
      "[[1 2 3]\n",
      " [4 5 6]]\n",
      "\n",
      "[[6 9 6]\n",
      " [1 1 2]]\n",
      "\n",
      "[[ 7 11  9]\n",
      " [ 5  6  8]]\n",
      "\n",
      "[[11 12 13]\n",
      " [14 15 16]]\n",
      "\n",
      "[[2 4 6]\n",
      " [5 7 9]]\n",
      "\n"
     ]
    }
   ],
   "source": [
    "## ndarray의 연산\n",
    "## R의 vector연산과 유사\n",
    "np.random.seed(1)\n",
    "arr1 = np.arange(1,7,1).reshape(2,3).copy()\n",
    "arr2 = np.random.randint(1,10,(2,3))\n",
    "print(arr1)\n",
    "print()\n",
    "print(arr2)\n",
    "print()\n",
    "print(arr1 + arr2) #python의 list에서 + 연산하면 list가 늘어남\n",
    "print()            #numpy ndarray에서 + 연산은 vector 연산\n",
    "print(arr1 + 10 )  #원래는 연산이 안돼야 정상 why? 사이즈가 달라\n",
    "print()            #이렇게 타입이 안맞는 경우에는 scalar를 broadcasting시킨다(행과 열을 확장시킴)\n",
    "                   #10 => 2행 3열짜리 10으로 모두 채워진 ndarray로 변환\n",
    "arr2 = np.array([1,2,3])\n",
    "print(arr1 + arr2)\n",
    "print()\n"
   ]
  },
  {
   "cell_type": "code",
   "execution_count": 232,
   "metadata": {
    "collapsed": true
   },
   "outputs": [
    {
     "name": "stdout",
     "output_type": "stream",
     "text": [
      "[[ 0  1  2  3]\n",
      " [ 4  5  6  7]\n",
      " [ 8  9 10 11]]\n",
      "\n",
      "66\n",
      "66\n",
      "\n",
      "[ 0  1  3  6 10 15 21 28 36 45 55 66]\n",
      "\n",
      "5.5\n",
      "\n",
      "11\n",
      "0\n",
      "\n",
      "3.452052529534663\n",
      "\n",
      "[[0.         1.         1.41421356 1.73205081]\n",
      " [2.         2.23606798 2.44948974 2.64575131]\n",
      " [2.82842712 3.         3.16227766 3.31662479]]\n",
      "\n",
      "[[      -inf 0.         0.30103    0.47712125]\n",
      " [0.60205999 0.69897    0.77815125 0.84509804]\n",
      " [0.90308999 0.95424251 1.         1.04139269]]\n"
     ]
    },
    {
     "name": "stderr",
     "output_type": "stream",
     "text": [
      "C:\\Users\\student\\Anaconda3\\envs\\cpu_env\\lib\\site-packages\\ipykernel_launcher.py:32: RuntimeWarning: divide by zero encountered in log10\n"
     ]
    }
   ],
   "source": [
    "## 기본적인 집계(통계)함수\n",
    "arr = np.arange(0,12,1).reshape(3,4).copy()\n",
    "print(arr)\n",
    "print()\n",
    "\n",
    "#합\n",
    "print(np.sum(arr))\n",
    "print(arr.sum())\n",
    "print()\n",
    "\n",
    "#누적 (1차원으로 변환)\n",
    "print(np.cumsum(arr))\n",
    "print()\n",
    "\n",
    "#평균\n",
    "print(np.mean(arr))\n",
    "print()\n",
    "\n",
    "#최대 최솟갑\n",
    "print(np.max(arr))\n",
    "print(np.min(arr))\n",
    "print()\n",
    "\n",
    "#std\n",
    "print(np.std(arr))\n",
    "print()\n",
    "\n",
    "#제곱근\n",
    "print(np.sqrt(arr))\n",
    "print()\n",
    "\n",
    "#자연로그, 상용로그\n",
    "print(np.log10(arr))"
   ]
  },
  {
   "cell_type": "code",
   "execution_count": 260,
   "metadata": {
    "collapsed": true
   },
   "outputs": [
    {
     "name": "stdout",
     "output_type": "stream",
     "text": [
      "[0 1 2 3 4]\n",
      "10\n",
      "10\n",
      "\n",
      "[[ 0  1  2  3]\n",
      " [ 4  5  6  7]\n",
      " [ 8  9 10 11]]\n",
      "\n",
      "[12 15 18 21]\n",
      "[ 6 22 38]\n"
     ]
    }
   ],
   "source": [
    "## 축 개념을 이해해 보아요\n",
    "## 위에 있는 집계함수를 이용할 때 axis 개념을 사용\n",
    "## 만약 axis를 명시하지 않으면 axis를 None으로 설정하고 대상범위를 전체 ndarray로 지정\n",
    "\n",
    "# 1차원 ndarray\n",
    "arr = np.arange(0,5,1)\n",
    "print(arr)\n",
    "print(arr.sum()) #축을 명시하지 않은 경우\n",
    "print(arr.sum(axis=0)) # 1차원에서 axis=0 이면 열방향\n",
    "print()\n",
    "\n",
    "# 2차원\n",
    "arr = np.arange(12).reshape(3,4).copy()\n",
    "print(arr)\n",
    "print()\n",
    "print(arr.sum(axis=0)) # 2차원에서 axis=0 이면 행방향\n",
    "print(arr.sum(axis=1)) # 2차원에서 axis=1 이면 열방향\n",
    "\n",
    "# 3차원일땐?\n",
    "# 3차원에서 axis=0 이면 면방향\n",
    "# 3차원에서 axis=1 이면 행방향\n",
    "# 3차원에서 axis=2 이면 행방향\n",
    "\n",
    "## 일반적인 로직으로 프로그램을 하는 것보다 집계함수를 이용하는 것이 훨씬 효율적\n"
   ]
  },
  {
   "cell_type": "code",
   "execution_count": 267,
   "metadata": {
    "collapsed": true
   },
   "outputs": [
    {
     "name": "stdout",
     "output_type": "stream",
     "text": [
      "[[6 9 6 1 1]\n",
      " [2 8 7 3 5]]\n",
      "5\n"
     ]
    },
    {
     "data": {
      "text/plain": [
       "5"
      ]
     },
     "execution_count": 267,
     "metadata": {},
     "output_type": "execute_result"
    }
   ],
   "source": [
    "##연습\n",
    "np.random.seed(1)\n",
    "arr = np.random.randint(1,10,(2,5))\n",
    "print(arr)\n",
    "\n",
    "print(len(arr[arr > 5]))\n",
    "(arr>5).sum()\n",
    "arr[arr > 5].size"
   ]
  },
  {
   "cell_type": "code",
   "execution_count": 281,
   "metadata": {},
   "outputs": [
    {
     "name": "stdout",
     "output_type": "stream",
     "text": [
      "[[ 0  1  2  3]\n",
      " [ 4  5  6  7]\n",
      " [ 8  9 10 11]]\n",
      "\n",
      "[[ 0  1  2  3]\n",
      " [ 8  9 10 11]]\n"
     ]
    }
   ],
   "source": [
    "## delete() : axis를 기준으로 행과 열을 삭제\n",
    "## axis을 지정하지 않으면 1차배열로 변환한 후 해당 요소를 삭제\n",
    "## 원본은 유지하고 삭제된 복사본을 return\n",
    "\n",
    "\n",
    "arr = np.arange(0,12,1).reshape(3,4).copy()\n",
    "print(arr)\n",
    "print()\n",
    "# axis를 지정하지 않고 삭제 처리\n",
    "'''result = np.delete(arr,(1,4)) # 1차배열로 변환한 후 해당 인덱스를 삭제\n",
    "print(result)'''\n",
    "\n",
    "result = np.delete(arr,1,axis=0) # [1,]행을 삭제\n",
    "print(result)"
   ]
  },
  {
   "cell_type": "code",
   "execution_count": null,
   "metadata": {},
   "outputs": [],
   "source": []
  }
 ],
 "metadata": {
  "kernelspec": {
   "display_name": "[CPU_ENV]",
   "language": "python",
   "name": "cpu_env"
  },
  "language_info": {
   "codemirror_mode": {
    "name": "ipython",
    "version": 3
   },
   "file_extension": ".py",
   "mimetype": "text/x-python",
   "name": "python",
   "nbconvert_exporter": "python",
   "pygments_lexer": "ipython3",
   "version": "3.6.9"
  }
 },
 "nbformat": 4,
 "nbformat_minor": 2
}
