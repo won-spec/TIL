{
 "cells": [
  {
   "cell_type": "code",
   "execution_count": 16,
   "metadata": {
    "collapsed": true
   },
   "outputs": [
    {
     "name": "stdout",
     "output_type": "stream",
     "text": [
      "False\n",
      "True\n",
      "0\n",
      "1\n",
      "True\n",
      "False\n",
      "True\n",
      "False\n",
      "True\n",
      "False\n",
      "False\n",
      "True\n",
      "False\n"
     ]
    }
   ],
   "source": [
    "## python\n",
    "## 1. 환경설정\n",
    "##    -PyCharm IDE를 이용해서 개발\n",
    "##     여러명이 같은 파일, 같은 프로젝트를 공유하면서 개발할 때 유리\n",
    "##     Interactive한 개발은 힘들다\n",
    "##     함수명을 변수로설정하면 함수의 기능이 없어진다!(주의!!!) sum = 1000\n",
    "##     만약에 이렇게 변수를 설정하면 껐다가 다시 키자\n",
    "##     데이터분석 작업보다는  Web개발이나 다른 application작성\n",
    "##    -jupyter Notebook\n",
    "##     Interactive한 개발이 가능해서 데이터 분석에 대한 학습이나 실제 분석작업을 많이 한다.\n",
    "##     여러명이 공도작업할 때는 불편!\n",
    "## 2. jupyter notebook 사용방법\n",
    "##    -cell 생성, cell안의 코드 실행방법\n",
    "##    -cell 삭제\n",
    "##    -무한루프가 되면 실행 interrupt 눌러라\n",
    "## 3. python built-in types\n",
    "##    - Numeric ( int, float, complex )\n",
    "##    - Text Sequece Type ( str ) 숙지 필수!!\n",
    "##    - Sequence Type ( list, tuple, range )\n",
    "##    - Mapping Type ( dict )\n",
    "##    - Bool Type ( bool ) : True, False를 사용\n",
    "##    - and : 논리 연산자 /  or : 논리 연산자 / not : 논리 연산자\n",
    "##    - &, | : 비교연산자, bitwise 연산 역할\n",
    "##    python에서 숫자 0은 False로 간주, 0이 아닌 모든 숫자는  True\n",
    "##    python에서 False는 숫자 0으로 변환, True는 1\n",
    "##    5를 2진법? => 0101\n",
    "##    1를 2진법? => 0001\n",
    "##    True & False => 1 & 0 => 0001 & 0000 => 0000 => 0 => False\n",
    "##    python은 다음의 경우를 False로 간주\n",
    "##    숫자 0, 빈 문자열(\"\"), 빈 리스트([]), 빈 튜플( () ), 빈 Dic( {} ), None\n",
    "\n",
    "# result = True and False\n",
    "# result = True or False\n",
    "# result = not True\n",
    "# print(result)\n",
    "\n",
    "print(bool(0))\n",
    "print(bool(12654))\n",
    "print(int(False))\n",
    "print(int(True))\n",
    "print(bool(\"소리없는아우성\")) #True\n",
    "print(bool(\"\")) # False\n",
    "\n",
    "print(bool([1])) # True\n",
    "print(bool([])) # False\n",
    "\n",
    "print(bool((1,2))) # True\n",
    "print(bool(())) # False\n",
    "\n",
    "print(bool({})) # False\n",
    "print(bool({1,2})) # True\n",
    "\n",
    "print(bool(None)) #False"
   ]
  },
  {
   "cell_type": "code",
   "execution_count": 32,
   "metadata": {
    "collapsed": true
   },
   "outputs": [
    {
     "name": "stdout",
     "output_type": "stream",
     "text": [
      "<class 'set'>\n",
      "{1, 2, 3, 4}\n",
      "{'o', 'H', 'e', 'l'}\n",
      "{3, 4}\n",
      "{3, 4}\n",
      "{1, 2, 3, 4, 5, 6}\n",
      "{1, 2, 3, 4, 5, 6}\n",
      "{1, 2}\n",
      "{1, 2}\n",
      "{1, 2, 3, 4, 5, 7}\n",
      "{1, 2, 3, 4, 5, 7, 10, 11, 12}\n",
      "{2, 3, 4, 5, 7, 10, 11, 12}\n"
     ]
    }
   ],
   "source": [
    "# Set type ( set )\n",
    "# 어떻게 생겼나요?? => {}\n",
    "# {} : 기본적으로 dict ,dict는 {}안에 key와 value로 구성\n",
    "# set은 {} 안에 요소만 들어감\n",
    "\n",
    "a = {\"name\":\"홍길동\",\"age\":20} # dict\n",
    "a = {1,2,3} #dict표현인데 key가 없다\n",
    "a = set()\n",
    "a = set([1,2,3,4,5])\n",
    "\n",
    "#set이라는 자료구조는.. 기본적으로 순서가 없다. 중복을 허용하지 않는 저장장소\n",
    "print(type(a))\n",
    "\n",
    "#간단하게 set 예제를 들어보아요!\n",
    "a = set([1,2,3,4,1,2,3,4,1,2,3]) # set은 중복을 배재한다\n",
    "print(a)\n",
    "\n",
    "a = set(\"Hello\") #문자열도 동일하게 하나씩만 표현 / #문자열을 set으로 만들면 어떻게 되나요?\n",
    "print(a)\n",
    "\n",
    "#set의 연산\n",
    "a = { 1,2,3,4 } # set의 literal\n",
    "b = { 3,4,5,6 }\n",
    "\n",
    "#set => 집합 ( 교집합, 합집합, 차집합 )\n",
    "print(a & b) # &가 set에 적용되면 교집합의 의미\n",
    "print(a.intersection(b))\n",
    "\n",
    "print(a | b) # |가 set에 적용되면 합집합의 의미\n",
    "print(a.union(b))\n",
    "\n",
    "print(a - b) # -가 set에 적용되면 차집합의 의미\n",
    "print(a.difference(b))\n",
    "\n",
    "mySet = { 1,2,3,4,5 }\n",
    "mySet.add(7) #add()는 set에 원하는 요소 1개를 추가\n",
    "print(mySet)\n",
    "mySet.update([10,11,12]) #여러개를 set에 추가\n",
    "print(mySet)\n",
    "mySet.remove(1)\n",
    "print(mySet)\n",
    "\n",
    "###연습문제를 풀어보자"
   ]
  },
  {
   "cell_type": "code",
   "execution_count": null,
   "metadata": {},
   "outputs": [],
   "source": []
  }
 ],
 "metadata": {
  "kernelspec": {
   "display_name": "[CPU_ENV]",
   "language": "python",
   "name": "cpu_env"
  },
  "language_info": {
   "codemirror_mode": {
    "name": "ipython",
    "version": 3
   },
   "file_extension": ".py",
   "mimetype": "text/x-python",
   "name": "python",
   "nbconvert_exporter": "python",
   "pygments_lexer": "ipython3",
   "version": "3.6.9"
  }
 },
 "nbformat": 4,
 "nbformat_minor": 2
}
