{
 "cells": [
  {
   "cell_type": "code",
   "execution_count": 40,
   "metadata": {},
   "outputs": [
    {
     "name": "stdout",
     "output_type": "stream",
     "text": [
      "학생이름은 : 홍길동1\n",
      "홍길동1\n",
      "한국\n",
      "학생이름은 : 김연아\n",
      "김연아\n",
      "한국\n"
     ]
    }
   ],
   "source": [
    "# 객체지향 프로그래밍\n",
    "# 함수기반의 프로그래밍을 하면 좋다!\n",
    "# 1970년도 부터 시작해서 지금까지 이 방식으로\n",
    "# 프로그래밍을 하고있다\n",
    "# 장점 : 프로그래밍이 쉽다. => 빨리 만들수 있다.\n",
    "#        =>비용이 적게 든다\n",
    "# 단점 : 처음에는 단점이 별로 없어보였다\n",
    "# 1990년 들어오면서 세상이 변하기 시작 => 인터넷\n",
    "# 정보량이 많아지기 시작 => 세상이 급변하기 시작\n",
    "# 프로그램의 유지보수 요구가 많아지기 시작\n",
    "# 절차적 프로그램으로 프로그램을 작성해서 이런문제가 발생 => 변화에 취약\n",
    "# 어떤 방식으로 프로그램을 만들면 유지보수적인 측면에서 이점이 있을까?\n",
    "# 객체지향 패러다임이 시작\n",
    "# 객체지향이 어떤 프로그래밍 방식인지??\n",
    "# 현실세계에 잘 부합하는(변화에 잘 적응하는) 프로그램을 만들기 위해\n",
    "# 해결해야 하는 문제를(현실세계문제) 프로그램으로 똑같이 모델링하면 되지않을까?\n",
    "# 은행프로그램을 만들려고 해요\n",
    "# 은행프로그램을 구성하는 구성요소를 파악\n",
    "# 텔러, 고객, 은행계좌, 지점, 테이블, ....\n",
    "# 분석하는 사람마다 다르다\n",
    "# 구성요소간의 행휘들을 정의하는 프로그래밍 방식\n",
    "# 은행계좌(객체)를 예로 프로그램으로 표현(객체 모델링)\n",
    "# 객체들은 크게 2가지로 파악가능\n",
    "# 상태와 행위로 파악\n",
    "# 상태는 값으로표현되는 것, 행위는 동작으로 표현되는 것\n",
    "# 계좌의 상태 : 잔액, 예금주, 계좌번호, ......\n",
    "# 계좌의 행위   : 출금, 입금, 조회, ...... => abstraction(추상화)\n",
    "\n",
    "# class => 객체 모델링의 수단, 추상데이터 타입 \n",
    "# 클래스의 이름은 대문자로 시작(관용적)\n",
    "class Student: #직접만든 데이터 타입 / 내가원하는 자료구조를 생성\n",
    "    # 1. properties\n",
    "    # 상태(값) : 이름, 학과, 학년, 학번, 성별, ....\n",
    "    # 상태는 변수로 표현 => properties\n",
    "    s_nation = \"\" # class variable / 객체가 공유사용하는 변수\n",
    "    \n",
    "    \n",
    "    # 2. 생성자(constructor())\n",
    "    def __init__(self,n):\n",
    "        self.s_name = n #학생 이름을 나타내는 property / 객체가 독립적으로 가지고 있는 변수\n",
    "        self.s_num = \"\"  #학번을 나타내는 property      / instance variable\n",
    "        self.s_major = []\n",
    "        \n",
    "    # 행위(동작)\n",
    "    # 행위는 함수로 표현\n",
    "    # 3. method : 객체지향 class내부에 명시된 함수\n",
    "    def display(self):\n",
    "        print(\"학생이름은 : {}\".format(self.s_name))\n",
    "        \n",
    "\n",
    "\n",
    "#t = Student(\"홍길동\") # 객체 생성 # => 이코드에 의해서 만들어진 메모리 저장공간(instance) => 객체\n",
    "                                  # Student()=>class 내부에 정의된 생성자라고 불리는 함수가 호출됨\n",
    "\n",
    "\n",
    "u = Student(\"홍길동1\")\n",
    "t.display()\n",
    "print(t.s_name)\n",
    "Student.s_nation = \"한국\"\n",
    "print(t.s_nation)\n",
    "\n",
    "u.s_name = (\"홍길동1\")\n",
    "print(u.s_name)\n",
    "\n",
    "k = Student(\"김연아\")\n",
    "k.display()\n",
    "print(k.s_name)\n",
    "print(k.s_nation)\n",
    "\n",
    "# students = list()\n",
    "# students.append(Student(\"홍길동\"))\n"
   ]
  },
  {
   "cell_type": "code",
   "execution_count": 52,
   "metadata": {},
   "outputs": [
    {
     "name": "stdout",
     "output_type": "stream",
     "text": [
      "학생이름은 : 홍길동1\n",
      "홍길동1\n",
      "미국\n",
      "홍길동1\n",
      "학생이름은 : 김연아\n",
      "김연아\n",
      "한국\n",
      "['산업공학']\n"
     ]
    }
   ],
   "source": [
    "class Student: \n",
    "    s_nation = \"\" \n",
    "    \n",
    "    def __init__(self):\n",
    "        self.s_name = [] \n",
    "        self.s_num = []\n",
    "        self.s_major = []\n",
    "        \n",
    "    def display(self):\n",
    "        print(\"학생이름은 : {}\".format(self.s_name))\n",
    "        \n",
    "\n",
    "t.display()\n",
    "print(t.s_name)\n",
    "Student.s_nation = \"미국\"\n",
    "print(t.s_nation)\n",
    "\n",
    "u.s_name = (\"홍길동1\")\n",
    "print(u.s_name)\n",
    "\n",
    "k.s_name = (\"김연아\")\n",
    "k.s_major=[\"산업공학\"]\n",
    "k.display()\n",
    "print(k.s_name)\n",
    "print(k.s_nation)\n",
    "print(k.s_major)"
   ]
  }
 ],
 "metadata": {
  "kernelspec": {
   "display_name": "[CPU_ENV]",
   "language": "python",
   "name": "cpu_env"
  },
  "language_info": {
   "codemirror_mode": {
    "name": "ipython",
    "version": 3
   },
   "file_extension": ".py",
   "mimetype": "text/x-python",
   "name": "python",
   "nbconvert_exporter": "python",
   "pygments_lexer": "ipython3",
   "version": "3.6.9"
  }
 },
 "nbformat": 4,
 "nbformat_minor": 2
}
